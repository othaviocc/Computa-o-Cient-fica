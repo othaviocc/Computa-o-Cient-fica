{
  "nbformat": 4,
  "nbformat_minor": 0,
  "metadata": {
    "kernelspec": {
      "display_name": "Python 3",
      "language": "python",
      "name": "python3"
    },
    "language_info": {
      "codemirror_mode": {
        "name": "ipython",
        "version": 3
      },
      "file_extension": ".py",
      "mimetype": "text/x-python",
      "name": "python",
      "nbconvert_exporter": "python",
      "pygments_lexer": "ipython3",
      "version": "3.8.8"
    },
    "nav_menu": {},
    "toc": {
      "navigate_menu": true,
      "number_sections": true,
      "sideBar": true,
      "threshold": 6,
      "toc_cell": false,
      "toc_section_display": "block",
      "toc_window_display": false
    },
    "colab": {
      "provenance": []
    }
  },
  "cells": [
    {
      "cell_type": "markdown",
      "metadata": {
        "id": "OT_Dek3yHqL6"
      },
      "source": [
        "# Orientações\n",
        "\n",
        "A tarefa aqui é **observar** e **analisar** um processo completo de Machine Learning.\n",
        "\n",
        "Adicionalmente, sugere-se que você também experimente com os dados e com os algoritmos, fazendo algumas das modificações indicadas em várias partes deste _notebook_.\n",
        "\n",
        "Note que não é preciso escrever mais código, apenas modificar o código já fornecido.\n",
        "\n",
        "Após a experimentação, responda ao questionário no final deste notebook e envie o mesmo (em formato **.ipynb**) via AVA."
      ]
    },
    {
      "cell_type": "markdown",
      "metadata": {
        "id": "um1unyItHqL7"
      },
      "source": [
        "# Problema\n",
        "\n",
        "O problema aqui descrito é uma **tarefa de classificação**. Com base nos dados reais dos passageiros do navio RMS Titanic, precisamos ajustar um **modelo de previsão** para ser capaz de prever a chance de uma dada pessoa sobreviver ou não ao naufrágio (ocorrido em 15 de abril de 1912)."
      ]
    },
    {
      "cell_type": "markdown",
      "metadata": {
        "id": "H5HTrqOTHqL8"
      },
      "source": [
        "# Inicialização\n",
        "\n",
        "Aqui importamos as bibliotecas fundamentais de Python para este _notebook_."
      ]
    },
    {
      "cell_type": "code",
      "metadata": {
        "id": "TIi8lqGuHqL9"
      },
      "source": [
        "%matplotlib inline\n",
        "import numpy as np\n",
        "import matplotlib.pyplot as plt\n",
        "import pandas as pd\n",
        "import sklearn"
      ],
      "execution_count": 1,
      "outputs": []
    },
    {
      "cell_type": "markdown",
      "metadata": {
        "id": "aVpO3LeaHqL-"
      },
      "source": [
        "# Conjunto de dados\n",
        "\n",
        "Este _dataset_ já está separado em dois conjuntos, um para **treino** (`titanic_treino.csv`) e outro para **teste** (`titanic_teste.csv`).\n",
        "\n",
        "Os conjuntos de treino e de teste já estão separados. Basta treinar um **modelo** com o conjunto de treino e aplicar uma **medida de desempenho** para sua avaliação.\n",
        "\n",
        "Quando esta medida indicar que o modelo tem boa qualidade, então deve-se usar o conjunto de teste para gerar uma nova previsão, comparando esta com o resultado já conhecido para cada passageiro.\n",
        "\n",
        "**Não se esqueça de fazer o upload dos aquivos CSV para o Colaboratory, antes de rodar a célula a seguir.**\n"
      ]
    },
    {
      "cell_type": "code",
      "metadata": {
        "id": "kffajNrbHqL_"
      },
      "source": [
        "# leitura dos conjuntos de dados\n",
        "\n",
        "treino = pd.read_csv('titanic_treino.csv')\n",
        "treino.set_index('id', inplace=True)\n",
        "\n",
        "teste = pd.read_csv(\"titanic_teste.csv\")\n",
        "teste.set_index('id', inplace=True)"
      ],
      "execution_count": 2,
      "outputs": []
    },
    {
      "cell_type": "markdown",
      "metadata": {
        "id": "YZk1ls5yHqMA"
      },
      "source": [
        "Cada conjunto de dados foi colocado em um `DataFrame` (da biblioteca Pandas).\n",
        "\n",
        "Vamos visualizar a seguir os primeiro cinco registros da base de treino:"
      ]
    },
    {
      "cell_type": "code",
      "metadata": {
        "id": "iX7NsqL9HqMB",
        "colab": {
          "base_uri": "https://localhost:8080/",
          "height": 272
        },
        "outputId": "70051079-a8f9-41ee-9130-185ebdbdf9e4"
      },
      "source": [
        "treino.head(5)"
      ],
      "execution_count": 3,
      "outputs": [
        {
          "output_type": "execute_result",
          "data": {
            "text/plain": [
              "    sobrevivente  classe                                               nome  \\\n",
              "id                                                                            \n",
              "1              0       3                            Braund, Mr. Owen Harris   \n",
              "2              1       1  Cumings, Mrs. John Bradley (Florence Briggs Th...   \n",
              "3              1       3                             Heikkinen, Miss. Laina   \n",
              "4              1       1       Futrelle, Mrs. Jacques Heath (Lily May Peel)   \n",
              "5              0       3                           Allen, Mr. William Henry   \n",
              "\n",
              "   sexo  idade  familia1  familia2           tiquete   tarifa cabine embarque  \n",
              "id                                                                             \n",
              "1     M   22.0         1         0         A/5 21171   7.2500    NaN        S  \n",
              "2     F   38.0         1         0          PC 17599  71.2833    C85        C  \n",
              "3     F   26.0         0         0  STON/O2. 3101282   7.9250    NaN        S  \n",
              "4     F   35.0         1         0            113803  53.1000   C123        S  \n",
              "5     M   35.0         0         0            373450   8.0500    NaN        S  "
            ],
            "text/html": [
              "\n",
              "  <div id=\"df-03ff6f89-aed9-4364-a2ea-a488c3f61f5e\" class=\"colab-df-container\">\n",
              "    <div>\n",
              "<style scoped>\n",
              "    .dataframe tbody tr th:only-of-type {\n",
              "        vertical-align: middle;\n",
              "    }\n",
              "\n",
              "    .dataframe tbody tr th {\n",
              "        vertical-align: top;\n",
              "    }\n",
              "\n",
              "    .dataframe thead th {\n",
              "        text-align: right;\n",
              "    }\n",
              "</style>\n",
              "<table border=\"1\" class=\"dataframe\">\n",
              "  <thead>\n",
              "    <tr style=\"text-align: right;\">\n",
              "      <th></th>\n",
              "      <th>sobrevivente</th>\n",
              "      <th>classe</th>\n",
              "      <th>nome</th>\n",
              "      <th>sexo</th>\n",
              "      <th>idade</th>\n",
              "      <th>familia1</th>\n",
              "      <th>familia2</th>\n",
              "      <th>tiquete</th>\n",
              "      <th>tarifa</th>\n",
              "      <th>cabine</th>\n",
              "      <th>embarque</th>\n",
              "    </tr>\n",
              "    <tr>\n",
              "      <th>id</th>\n",
              "      <th></th>\n",
              "      <th></th>\n",
              "      <th></th>\n",
              "      <th></th>\n",
              "      <th></th>\n",
              "      <th></th>\n",
              "      <th></th>\n",
              "      <th></th>\n",
              "      <th></th>\n",
              "      <th></th>\n",
              "      <th></th>\n",
              "    </tr>\n",
              "  </thead>\n",
              "  <tbody>\n",
              "    <tr>\n",
              "      <th>1</th>\n",
              "      <td>0</td>\n",
              "      <td>3</td>\n",
              "      <td>Braund, Mr. Owen Harris</td>\n",
              "      <td>M</td>\n",
              "      <td>22.0</td>\n",
              "      <td>1</td>\n",
              "      <td>0</td>\n",
              "      <td>A/5 21171</td>\n",
              "      <td>7.2500</td>\n",
              "      <td>NaN</td>\n",
              "      <td>S</td>\n",
              "    </tr>\n",
              "    <tr>\n",
              "      <th>2</th>\n",
              "      <td>1</td>\n",
              "      <td>1</td>\n",
              "      <td>Cumings, Mrs. John Bradley (Florence Briggs Th...</td>\n",
              "      <td>F</td>\n",
              "      <td>38.0</td>\n",
              "      <td>1</td>\n",
              "      <td>0</td>\n",
              "      <td>PC 17599</td>\n",
              "      <td>71.2833</td>\n",
              "      <td>C85</td>\n",
              "      <td>C</td>\n",
              "    </tr>\n",
              "    <tr>\n",
              "      <th>3</th>\n",
              "      <td>1</td>\n",
              "      <td>3</td>\n",
              "      <td>Heikkinen, Miss. Laina</td>\n",
              "      <td>F</td>\n",
              "      <td>26.0</td>\n",
              "      <td>0</td>\n",
              "      <td>0</td>\n",
              "      <td>STON/O2. 3101282</td>\n",
              "      <td>7.9250</td>\n",
              "      <td>NaN</td>\n",
              "      <td>S</td>\n",
              "    </tr>\n",
              "    <tr>\n",
              "      <th>4</th>\n",
              "      <td>1</td>\n",
              "      <td>1</td>\n",
              "      <td>Futrelle, Mrs. Jacques Heath (Lily May Peel)</td>\n",
              "      <td>F</td>\n",
              "      <td>35.0</td>\n",
              "      <td>1</td>\n",
              "      <td>0</td>\n",
              "      <td>113803</td>\n",
              "      <td>53.1000</td>\n",
              "      <td>C123</td>\n",
              "      <td>S</td>\n",
              "    </tr>\n",
              "    <tr>\n",
              "      <th>5</th>\n",
              "      <td>0</td>\n",
              "      <td>3</td>\n",
              "      <td>Allen, Mr. William Henry</td>\n",
              "      <td>M</td>\n",
              "      <td>35.0</td>\n",
              "      <td>0</td>\n",
              "      <td>0</td>\n",
              "      <td>373450</td>\n",
              "      <td>8.0500</td>\n",
              "      <td>NaN</td>\n",
              "      <td>S</td>\n",
              "    </tr>\n",
              "  </tbody>\n",
              "</table>\n",
              "</div>\n",
              "    <div class=\"colab-df-buttons\">\n",
              "\n",
              "  <div class=\"colab-df-container\">\n",
              "    <button class=\"colab-df-convert\" onclick=\"convertToInteractive('df-03ff6f89-aed9-4364-a2ea-a488c3f61f5e')\"\n",
              "            title=\"Convert this dataframe to an interactive table.\"\n",
              "            style=\"display:none;\">\n",
              "\n",
              "  <svg xmlns=\"http://www.w3.org/2000/svg\" height=\"24px\" viewBox=\"0 -960 960 960\">\n",
              "    <path d=\"M120-120v-720h720v720H120Zm60-500h600v-160H180v160Zm220 220h160v-160H400v160Zm0 220h160v-160H400v160ZM180-400h160v-160H180v160Zm440 0h160v-160H620v160ZM180-180h160v-160H180v160Zm440 0h160v-160H620v160Z\"/>\n",
              "  </svg>\n",
              "    </button>\n",
              "\n",
              "  <style>\n",
              "    .colab-df-container {\n",
              "      display:flex;\n",
              "      gap: 12px;\n",
              "    }\n",
              "\n",
              "    .colab-df-convert {\n",
              "      background-color: #E8F0FE;\n",
              "      border: none;\n",
              "      border-radius: 50%;\n",
              "      cursor: pointer;\n",
              "      display: none;\n",
              "      fill: #1967D2;\n",
              "      height: 32px;\n",
              "      padding: 0 0 0 0;\n",
              "      width: 32px;\n",
              "    }\n",
              "\n",
              "    .colab-df-convert:hover {\n",
              "      background-color: #E2EBFA;\n",
              "      box-shadow: 0px 1px 2px rgba(60, 64, 67, 0.3), 0px 1px 3px 1px rgba(60, 64, 67, 0.15);\n",
              "      fill: #174EA6;\n",
              "    }\n",
              "\n",
              "    .colab-df-buttons div {\n",
              "      margin-bottom: 4px;\n",
              "    }\n",
              "\n",
              "    [theme=dark] .colab-df-convert {\n",
              "      background-color: #3B4455;\n",
              "      fill: #D2E3FC;\n",
              "    }\n",
              "\n",
              "    [theme=dark] .colab-df-convert:hover {\n",
              "      background-color: #434B5C;\n",
              "      box-shadow: 0px 1px 3px 1px rgba(0, 0, 0, 0.15);\n",
              "      filter: drop-shadow(0px 1px 2px rgba(0, 0, 0, 0.3));\n",
              "      fill: #FFFFFF;\n",
              "    }\n",
              "  </style>\n",
              "\n",
              "    <script>\n",
              "      const buttonEl =\n",
              "        document.querySelector('#df-03ff6f89-aed9-4364-a2ea-a488c3f61f5e button.colab-df-convert');\n",
              "      buttonEl.style.display =\n",
              "        google.colab.kernel.accessAllowed ? 'block' : 'none';\n",
              "\n",
              "      async function convertToInteractive(key) {\n",
              "        const element = document.querySelector('#df-03ff6f89-aed9-4364-a2ea-a488c3f61f5e');\n",
              "        const dataTable =\n",
              "          await google.colab.kernel.invokeFunction('convertToInteractive',\n",
              "                                                    [key], {});\n",
              "        if (!dataTable) return;\n",
              "\n",
              "        const docLinkHtml = 'Like what you see? Visit the ' +\n",
              "          '<a target=\"_blank\" href=https://colab.research.google.com/notebooks/data_table.ipynb>data table notebook</a>'\n",
              "          + ' to learn more about interactive tables.';\n",
              "        element.innerHTML = '';\n",
              "        dataTable['output_type'] = 'display_data';\n",
              "        await google.colab.output.renderOutput(dataTable, element);\n",
              "        const docLink = document.createElement('div');\n",
              "        docLink.innerHTML = docLinkHtml;\n",
              "        element.appendChild(docLink);\n",
              "      }\n",
              "    </script>\n",
              "  </div>\n",
              "\n",
              "\n",
              "<div id=\"df-9720cb13-4b8e-4359-9be5-fa487331283a\">\n",
              "  <button class=\"colab-df-quickchart\" onclick=\"quickchart('df-9720cb13-4b8e-4359-9be5-fa487331283a')\"\n",
              "            title=\"Suggest charts\"\n",
              "            style=\"display:none;\">\n",
              "\n",
              "<svg xmlns=\"http://www.w3.org/2000/svg\" height=\"24px\"viewBox=\"0 0 24 24\"\n",
              "     width=\"24px\">\n",
              "    <g>\n",
              "        <path d=\"M19 3H5c-1.1 0-2 .9-2 2v14c0 1.1.9 2 2 2h14c1.1 0 2-.9 2-2V5c0-1.1-.9-2-2-2zM9 17H7v-7h2v7zm4 0h-2V7h2v10zm4 0h-2v-4h2v4z\"/>\n",
              "    </g>\n",
              "</svg>\n",
              "  </button>\n",
              "\n",
              "<style>\n",
              "  .colab-df-quickchart {\n",
              "      --bg-color: #E8F0FE;\n",
              "      --fill-color: #1967D2;\n",
              "      --hover-bg-color: #E2EBFA;\n",
              "      --hover-fill-color: #174EA6;\n",
              "      --disabled-fill-color: #AAA;\n",
              "      --disabled-bg-color: #DDD;\n",
              "  }\n",
              "\n",
              "  [theme=dark] .colab-df-quickchart {\n",
              "      --bg-color: #3B4455;\n",
              "      --fill-color: #D2E3FC;\n",
              "      --hover-bg-color: #434B5C;\n",
              "      --hover-fill-color: #FFFFFF;\n",
              "      --disabled-bg-color: #3B4455;\n",
              "      --disabled-fill-color: #666;\n",
              "  }\n",
              "\n",
              "  .colab-df-quickchart {\n",
              "    background-color: var(--bg-color);\n",
              "    border: none;\n",
              "    border-radius: 50%;\n",
              "    cursor: pointer;\n",
              "    display: none;\n",
              "    fill: var(--fill-color);\n",
              "    height: 32px;\n",
              "    padding: 0;\n",
              "    width: 32px;\n",
              "  }\n",
              "\n",
              "  .colab-df-quickchart:hover {\n",
              "    background-color: var(--hover-bg-color);\n",
              "    box-shadow: 0 1px 2px rgba(60, 64, 67, 0.3), 0 1px 3px 1px rgba(60, 64, 67, 0.15);\n",
              "    fill: var(--button-hover-fill-color);\n",
              "  }\n",
              "\n",
              "  .colab-df-quickchart-complete:disabled,\n",
              "  .colab-df-quickchart-complete:disabled:hover {\n",
              "    background-color: var(--disabled-bg-color);\n",
              "    fill: var(--disabled-fill-color);\n",
              "    box-shadow: none;\n",
              "  }\n",
              "\n",
              "  .colab-df-spinner {\n",
              "    border: 2px solid var(--fill-color);\n",
              "    border-color: transparent;\n",
              "    border-bottom-color: var(--fill-color);\n",
              "    animation:\n",
              "      spin 1s steps(1) infinite;\n",
              "  }\n",
              "\n",
              "  @keyframes spin {\n",
              "    0% {\n",
              "      border-color: transparent;\n",
              "      border-bottom-color: var(--fill-color);\n",
              "      border-left-color: var(--fill-color);\n",
              "    }\n",
              "    20% {\n",
              "      border-color: transparent;\n",
              "      border-left-color: var(--fill-color);\n",
              "      border-top-color: var(--fill-color);\n",
              "    }\n",
              "    30% {\n",
              "      border-color: transparent;\n",
              "      border-left-color: var(--fill-color);\n",
              "      border-top-color: var(--fill-color);\n",
              "      border-right-color: var(--fill-color);\n",
              "    }\n",
              "    40% {\n",
              "      border-color: transparent;\n",
              "      border-right-color: var(--fill-color);\n",
              "      border-top-color: var(--fill-color);\n",
              "    }\n",
              "    60% {\n",
              "      border-color: transparent;\n",
              "      border-right-color: var(--fill-color);\n",
              "    }\n",
              "    80% {\n",
              "      border-color: transparent;\n",
              "      border-right-color: var(--fill-color);\n",
              "      border-bottom-color: var(--fill-color);\n",
              "    }\n",
              "    90% {\n",
              "      border-color: transparent;\n",
              "      border-bottom-color: var(--fill-color);\n",
              "    }\n",
              "  }\n",
              "</style>\n",
              "\n",
              "  <script>\n",
              "    async function quickchart(key) {\n",
              "      const quickchartButtonEl =\n",
              "        document.querySelector('#' + key + ' button');\n",
              "      quickchartButtonEl.disabled = true;  // To prevent multiple clicks.\n",
              "      quickchartButtonEl.classList.add('colab-df-spinner');\n",
              "      try {\n",
              "        const charts = await google.colab.kernel.invokeFunction(\n",
              "            'suggestCharts', [key], {});\n",
              "      } catch (error) {\n",
              "        console.error('Error during call to suggestCharts:', error);\n",
              "      }\n",
              "      quickchartButtonEl.classList.remove('colab-df-spinner');\n",
              "      quickchartButtonEl.classList.add('colab-df-quickchart-complete');\n",
              "    }\n",
              "    (() => {\n",
              "      let quickchartButtonEl =\n",
              "        document.querySelector('#df-9720cb13-4b8e-4359-9be5-fa487331283a button');\n",
              "      quickchartButtonEl.style.display =\n",
              "        google.colab.kernel.accessAllowed ? 'block' : 'none';\n",
              "    })();\n",
              "  </script>\n",
              "</div>\n",
              "\n",
              "    </div>\n",
              "  </div>\n"
            ],
            "application/vnd.google.colaboratory.intrinsic+json": {
              "type": "dataframe",
              "variable_name": "treino",
              "summary": "{\n  \"name\": \"treino\",\n  \"rows\": 891,\n  \"fields\": [\n    {\n      \"column\": \"id\",\n      \"properties\": {\n        \"dtype\": \"number\",\n        \"std\": 257,\n        \"min\": 1,\n        \"max\": 891,\n        \"num_unique_values\": 891,\n        \"samples\": [\n          710,\n          440,\n          841\n        ],\n        \"semantic_type\": \"\",\n        \"description\": \"\"\n      }\n    },\n    {\n      \"column\": \"sobrevivente\",\n      \"properties\": {\n        \"dtype\": \"number\",\n        \"std\": 0,\n        \"min\": 0,\n        \"max\": 1,\n        \"num_unique_values\": 2,\n        \"samples\": [\n          1,\n          0\n        ],\n        \"semantic_type\": \"\",\n        \"description\": \"\"\n      }\n    },\n    {\n      \"column\": \"classe\",\n      \"properties\": {\n        \"dtype\": \"number\",\n        \"std\": 0,\n        \"min\": 1,\n        \"max\": 3,\n        \"num_unique_values\": 3,\n        \"samples\": [\n          3,\n          1\n        ],\n        \"semantic_type\": \"\",\n        \"description\": \"\"\n      }\n    },\n    {\n      \"column\": \"nome\",\n      \"properties\": {\n        \"dtype\": \"string\",\n        \"num_unique_values\": 891,\n        \"samples\": [\n          \"Moubarek, Master. Halim Gonios (\\\"William George\\\")\",\n          \"Kvillner, Mr. Johan Henrik Johannesson\"\n        ],\n        \"semantic_type\": \"\",\n        \"description\": \"\"\n      }\n    },\n    {\n      \"column\": \"sexo\",\n      \"properties\": {\n        \"dtype\": \"category\",\n        \"num_unique_values\": 2,\n        \"samples\": [\n          \"F\",\n          \"M\"\n        ],\n        \"semantic_type\": \"\",\n        \"description\": \"\"\n      }\n    },\n    {\n      \"column\": \"idade\",\n      \"properties\": {\n        \"dtype\": \"number\",\n        \"std\": 14.526497332334044,\n        \"min\": 0.42,\n        \"max\": 80.0,\n        \"num_unique_values\": 88,\n        \"samples\": [\n          0.75,\n          22.0\n        ],\n        \"semantic_type\": \"\",\n        \"description\": \"\"\n      }\n    },\n    {\n      \"column\": \"familia1\",\n      \"properties\": {\n        \"dtype\": \"number\",\n        \"std\": 1,\n        \"min\": 0,\n        \"max\": 8,\n        \"num_unique_values\": 7,\n        \"samples\": [\n          1,\n          0\n        ],\n        \"semantic_type\": \"\",\n        \"description\": \"\"\n      }\n    },\n    {\n      \"column\": \"familia2\",\n      \"properties\": {\n        \"dtype\": \"number\",\n        \"std\": 0,\n        \"min\": 0,\n        \"max\": 6,\n        \"num_unique_values\": 7,\n        \"samples\": [\n          0,\n          1\n        ],\n        \"semantic_type\": \"\",\n        \"description\": \"\"\n      }\n    },\n    {\n      \"column\": \"tiquete\",\n      \"properties\": {\n        \"dtype\": \"string\",\n        \"num_unique_values\": 681,\n        \"samples\": [\n          \"11774\",\n          \"248740\"\n        ],\n        \"semantic_type\": \"\",\n        \"description\": \"\"\n      }\n    },\n    {\n      \"column\": \"tarifa\",\n      \"properties\": {\n        \"dtype\": \"number\",\n        \"std\": 49.693428597180905,\n        \"min\": 0.0,\n        \"max\": 512.3292,\n        \"num_unique_values\": 248,\n        \"samples\": [\n          11.2417,\n          51.8625\n        ],\n        \"semantic_type\": \"\",\n        \"description\": \"\"\n      }\n    },\n    {\n      \"column\": \"cabine\",\n      \"properties\": {\n        \"dtype\": \"category\",\n        \"num_unique_values\": 147,\n        \"samples\": [\n          \"D45\",\n          \"B49\"\n        ],\n        \"semantic_type\": \"\",\n        \"description\": \"\"\n      }\n    },\n    {\n      \"column\": \"embarque\",\n      \"properties\": {\n        \"dtype\": \"category\",\n        \"num_unique_values\": 3,\n        \"samples\": [\n          \"S\",\n          \"C\"\n        ],\n        \"semantic_type\": \"\",\n        \"description\": \"\"\n      }\n    }\n  ]\n}"
            }
          },
          "metadata": {},
          "execution_count": 3
        }
      ]
    },
    {
      "cell_type": "markdown",
      "metadata": {
        "id": "Fpu84NlNHqMD"
      },
      "source": [
        "Os dois conjuntos têm a mesma estrutura de atributos, onde cada linha representa um passageiro. As colunas são os atributos, definidos da seguinte forma:\n",
        "\n",
        "- **id**: um número sequencial, único para cada passageiro\n",
        "\n",
        "- **sobrevivente**: indica se o passageiro sobreviveu (1) ou não (0) ao naufrágio\n",
        "\n",
        "- **classe**: qual a classe da passagem comprada, da primeira (1) até a terceira (3) classe\n",
        "\n",
        "- **nome**: nome completo do passageiro (incluindo apelido, se for o caso)\n",
        "\n",
        "- **sexo**: sexo masculino (M) ou feminino (F)\n",
        "\n",
        "- **idade**: idade em anos\n",
        "\n",
        "- **familia1**: número de cônjuges, de irmãos e de irmãs presentes no navio\n",
        "\n",
        "- **familia2**: número de pais e de filhos do passageiro, também presentes no navio\n",
        "\n",
        "- **tiquete**: código do tíquete de embarque\n",
        "\n",
        "- **tarifa**: preço pago pela passagem, em libras esterlinas\n",
        "\n",
        "- **cabine**: código da cabine do passageiro\n",
        "\n",
        "- **embarque**: porto de embarque do passageiro, sendo Cherbourg (C), Queenstown (Q) ou  Southampton (S)"
      ]
    },
    {
      "cell_type": "markdown",
      "metadata": {
        "id": "5JgmYl2iHqME"
      },
      "source": [
        "# Análise dos dados\n",
        "\n",
        "Aqui vamos computar algumas estatísticas sobre a base original de dados. Estas estatísticas são importantes tanto para perceber quais operações de preprocessamento serão necessárias como para escolher quais _features_ vamos usar no treinamento.\n",
        "\n",
        "Uma função muito útil para isso é a `.info()`, que mostra o tipo de dados e o número de valores presentes em cada coluna:"
      ]
    },
    {
      "cell_type": "code",
      "metadata": {
        "id": "zMEuFUm8HqMF",
        "colab": {
          "base_uri": "https://localhost:8080/"
        },
        "outputId": "4979dbfd-64f6-4289-9b62-5551f98ef610"
      },
      "source": [
        "treino.info()"
      ],
      "execution_count": 4,
      "outputs": [
        {
          "output_type": "stream",
          "name": "stdout",
          "text": [
            "<class 'pandas.core.frame.DataFrame'>\n",
            "Index: 891 entries, 1 to 891\n",
            "Data columns (total 11 columns):\n",
            " #   Column        Non-Null Count  Dtype  \n",
            "---  ------        --------------  -----  \n",
            " 0   sobrevivente  891 non-null    int64  \n",
            " 1   classe        891 non-null    int64  \n",
            " 2   nome          891 non-null    object \n",
            " 3   sexo          891 non-null    object \n",
            " 4   idade         714 non-null    float64\n",
            " 5   familia1      891 non-null    int64  \n",
            " 6   familia2      891 non-null    int64  \n",
            " 7   tiquete       891 non-null    object \n",
            " 8   tarifa        891 non-null    float64\n",
            " 9   cabine        204 non-null    object \n",
            " 10  embarque      889 non-null    object \n",
            "dtypes: float64(2), int64(4), object(5)\n",
            "memory usage: 83.5+ KB\n"
          ]
        }
      ]
    },
    {
      "cell_type": "markdown",
      "metadata": {
        "id": "yXr6MbXVHqMG"
      },
      "source": [
        "Para o conjunto de treino há um total de 891 registros.\n",
        "\n",
        "É possível perceber que há valores faltantes, ao compararmos 891 com a coluna _non-null count_, nas colunas `idade`, `cabine` e `embarque`. Na etapa de preprocessamento precisamos completar estes valores (por exemplo, preenchendo as idades faltantes com a mediana de todas as idades). Ou pode-se simplesmente descartar algumas colunas, como faremos depois com `cabine`.\n",
        "\n",
        "Podemos também olhar estatísticas sobre os valores das colunas numéricas usando `.describe()':"
      ]
    },
    {
      "cell_type": "code",
      "metadata": {
        "id": "7BO6-AcbHqMG",
        "colab": {
          "base_uri": "https://localhost:8080/",
          "height": 300
        },
        "outputId": "99cc0eb8-4861-4d24-d96e-e3faac4bba46"
      },
      "source": [
        "treino.describe()"
      ],
      "execution_count": 7,
      "outputs": [
        {
          "output_type": "execute_result",
          "data": {
            "text/plain": [
              "       sobrevivente      classe       idade    familia1    familia2  \\\n",
              "count    891.000000  891.000000  714.000000  891.000000  891.000000   \n",
              "mean       0.383838    2.308642   29.699118    0.523008    0.381594   \n",
              "std        0.486592    0.836071   14.526497    1.102743    0.806057   \n",
              "min        0.000000    1.000000    0.420000    0.000000    0.000000   \n",
              "25%        0.000000    2.000000   20.125000    0.000000    0.000000   \n",
              "50%        0.000000    3.000000   28.000000    0.000000    0.000000   \n",
              "75%        1.000000    3.000000   38.000000    1.000000    0.000000   \n",
              "max        1.000000    3.000000   80.000000    8.000000    6.000000   \n",
              "\n",
              "           tarifa  \n",
              "count  891.000000  \n",
              "mean    32.204208  \n",
              "std     49.693429  \n",
              "min      0.000000  \n",
              "25%      7.910400  \n",
              "50%     14.454200  \n",
              "75%     31.000000  \n",
              "max    512.329200  "
            ],
            "text/html": [
              "\n",
              "  <div id=\"df-f5424394-025c-4480-b68e-bc08036fea23\" class=\"colab-df-container\">\n",
              "    <div>\n",
              "<style scoped>\n",
              "    .dataframe tbody tr th:only-of-type {\n",
              "        vertical-align: middle;\n",
              "    }\n",
              "\n",
              "    .dataframe tbody tr th {\n",
              "        vertical-align: top;\n",
              "    }\n",
              "\n",
              "    .dataframe thead th {\n",
              "        text-align: right;\n",
              "    }\n",
              "</style>\n",
              "<table border=\"1\" class=\"dataframe\">\n",
              "  <thead>\n",
              "    <tr style=\"text-align: right;\">\n",
              "      <th></th>\n",
              "      <th>sobrevivente</th>\n",
              "      <th>classe</th>\n",
              "      <th>idade</th>\n",
              "      <th>familia1</th>\n",
              "      <th>familia2</th>\n",
              "      <th>tarifa</th>\n",
              "    </tr>\n",
              "  </thead>\n",
              "  <tbody>\n",
              "    <tr>\n",
              "      <th>count</th>\n",
              "      <td>891.000000</td>\n",
              "      <td>891.000000</td>\n",
              "      <td>714.000000</td>\n",
              "      <td>891.000000</td>\n",
              "      <td>891.000000</td>\n",
              "      <td>891.000000</td>\n",
              "    </tr>\n",
              "    <tr>\n",
              "      <th>mean</th>\n",
              "      <td>0.383838</td>\n",
              "      <td>2.308642</td>\n",
              "      <td>29.699118</td>\n",
              "      <td>0.523008</td>\n",
              "      <td>0.381594</td>\n",
              "      <td>32.204208</td>\n",
              "    </tr>\n",
              "    <tr>\n",
              "      <th>std</th>\n",
              "      <td>0.486592</td>\n",
              "      <td>0.836071</td>\n",
              "      <td>14.526497</td>\n",
              "      <td>1.102743</td>\n",
              "      <td>0.806057</td>\n",
              "      <td>49.693429</td>\n",
              "    </tr>\n",
              "    <tr>\n",
              "      <th>min</th>\n",
              "      <td>0.000000</td>\n",
              "      <td>1.000000</td>\n",
              "      <td>0.420000</td>\n",
              "      <td>0.000000</td>\n",
              "      <td>0.000000</td>\n",
              "      <td>0.000000</td>\n",
              "    </tr>\n",
              "    <tr>\n",
              "      <th>25%</th>\n",
              "      <td>0.000000</td>\n",
              "      <td>2.000000</td>\n",
              "      <td>20.125000</td>\n",
              "      <td>0.000000</td>\n",
              "      <td>0.000000</td>\n",
              "      <td>7.910400</td>\n",
              "    </tr>\n",
              "    <tr>\n",
              "      <th>50%</th>\n",
              "      <td>0.000000</td>\n",
              "      <td>3.000000</td>\n",
              "      <td>28.000000</td>\n",
              "      <td>0.000000</td>\n",
              "      <td>0.000000</td>\n",
              "      <td>14.454200</td>\n",
              "    </tr>\n",
              "    <tr>\n",
              "      <th>75%</th>\n",
              "      <td>1.000000</td>\n",
              "      <td>3.000000</td>\n",
              "      <td>38.000000</td>\n",
              "      <td>1.000000</td>\n",
              "      <td>0.000000</td>\n",
              "      <td>31.000000</td>\n",
              "    </tr>\n",
              "    <tr>\n",
              "      <th>max</th>\n",
              "      <td>1.000000</td>\n",
              "      <td>3.000000</td>\n",
              "      <td>80.000000</td>\n",
              "      <td>8.000000</td>\n",
              "      <td>6.000000</td>\n",
              "      <td>512.329200</td>\n",
              "    </tr>\n",
              "  </tbody>\n",
              "</table>\n",
              "</div>\n",
              "    <div class=\"colab-df-buttons\">\n",
              "\n",
              "  <div class=\"colab-df-container\">\n",
              "    <button class=\"colab-df-convert\" onclick=\"convertToInteractive('df-f5424394-025c-4480-b68e-bc08036fea23')\"\n",
              "            title=\"Convert this dataframe to an interactive table.\"\n",
              "            style=\"display:none;\">\n",
              "\n",
              "  <svg xmlns=\"http://www.w3.org/2000/svg\" height=\"24px\" viewBox=\"0 -960 960 960\">\n",
              "    <path d=\"M120-120v-720h720v720H120Zm60-500h600v-160H180v160Zm220 220h160v-160H400v160Zm0 220h160v-160H400v160ZM180-400h160v-160H180v160Zm440 0h160v-160H620v160ZM180-180h160v-160H180v160Zm440 0h160v-160H620v160Z\"/>\n",
              "  </svg>\n",
              "    </button>\n",
              "\n",
              "  <style>\n",
              "    .colab-df-container {\n",
              "      display:flex;\n",
              "      gap: 12px;\n",
              "    }\n",
              "\n",
              "    .colab-df-convert {\n",
              "      background-color: #E8F0FE;\n",
              "      border: none;\n",
              "      border-radius: 50%;\n",
              "      cursor: pointer;\n",
              "      display: none;\n",
              "      fill: #1967D2;\n",
              "      height: 32px;\n",
              "      padding: 0 0 0 0;\n",
              "      width: 32px;\n",
              "    }\n",
              "\n",
              "    .colab-df-convert:hover {\n",
              "      background-color: #E2EBFA;\n",
              "      box-shadow: 0px 1px 2px rgba(60, 64, 67, 0.3), 0px 1px 3px 1px rgba(60, 64, 67, 0.15);\n",
              "      fill: #174EA6;\n",
              "    }\n",
              "\n",
              "    .colab-df-buttons div {\n",
              "      margin-bottom: 4px;\n",
              "    }\n",
              "\n",
              "    [theme=dark] .colab-df-convert {\n",
              "      background-color: #3B4455;\n",
              "      fill: #D2E3FC;\n",
              "    }\n",
              "\n",
              "    [theme=dark] .colab-df-convert:hover {\n",
              "      background-color: #434B5C;\n",
              "      box-shadow: 0px 1px 3px 1px rgba(0, 0, 0, 0.15);\n",
              "      filter: drop-shadow(0px 1px 2px rgba(0, 0, 0, 0.3));\n",
              "      fill: #FFFFFF;\n",
              "    }\n",
              "  </style>\n",
              "\n",
              "    <script>\n",
              "      const buttonEl =\n",
              "        document.querySelector('#df-f5424394-025c-4480-b68e-bc08036fea23 button.colab-df-convert');\n",
              "      buttonEl.style.display =\n",
              "        google.colab.kernel.accessAllowed ? 'block' : 'none';\n",
              "\n",
              "      async function convertToInteractive(key) {\n",
              "        const element = document.querySelector('#df-f5424394-025c-4480-b68e-bc08036fea23');\n",
              "        const dataTable =\n",
              "          await google.colab.kernel.invokeFunction('convertToInteractive',\n",
              "                                                    [key], {});\n",
              "        if (!dataTable) return;\n",
              "\n",
              "        const docLinkHtml = 'Like what you see? Visit the ' +\n",
              "          '<a target=\"_blank\" href=https://colab.research.google.com/notebooks/data_table.ipynb>data table notebook</a>'\n",
              "          + ' to learn more about interactive tables.';\n",
              "        element.innerHTML = '';\n",
              "        dataTable['output_type'] = 'display_data';\n",
              "        await google.colab.output.renderOutput(dataTable, element);\n",
              "        const docLink = document.createElement('div');\n",
              "        docLink.innerHTML = docLinkHtml;\n",
              "        element.appendChild(docLink);\n",
              "      }\n",
              "    </script>\n",
              "  </div>\n",
              "\n",
              "\n",
              "<div id=\"df-7489aae7-2e06-4974-bb1b-82994825ce8d\">\n",
              "  <button class=\"colab-df-quickchart\" onclick=\"quickchart('df-7489aae7-2e06-4974-bb1b-82994825ce8d')\"\n",
              "            title=\"Suggest charts\"\n",
              "            style=\"display:none;\">\n",
              "\n",
              "<svg xmlns=\"http://www.w3.org/2000/svg\" height=\"24px\"viewBox=\"0 0 24 24\"\n",
              "     width=\"24px\">\n",
              "    <g>\n",
              "        <path d=\"M19 3H5c-1.1 0-2 .9-2 2v14c0 1.1.9 2 2 2h14c1.1 0 2-.9 2-2V5c0-1.1-.9-2-2-2zM9 17H7v-7h2v7zm4 0h-2V7h2v10zm4 0h-2v-4h2v4z\"/>\n",
              "    </g>\n",
              "</svg>\n",
              "  </button>\n",
              "\n",
              "<style>\n",
              "  .colab-df-quickchart {\n",
              "      --bg-color: #E8F0FE;\n",
              "      --fill-color: #1967D2;\n",
              "      --hover-bg-color: #E2EBFA;\n",
              "      --hover-fill-color: #174EA6;\n",
              "      --disabled-fill-color: #AAA;\n",
              "      --disabled-bg-color: #DDD;\n",
              "  }\n",
              "\n",
              "  [theme=dark] .colab-df-quickchart {\n",
              "      --bg-color: #3B4455;\n",
              "      --fill-color: #D2E3FC;\n",
              "      --hover-bg-color: #434B5C;\n",
              "      --hover-fill-color: #FFFFFF;\n",
              "      --disabled-bg-color: #3B4455;\n",
              "      --disabled-fill-color: #666;\n",
              "  }\n",
              "\n",
              "  .colab-df-quickchart {\n",
              "    background-color: var(--bg-color);\n",
              "    border: none;\n",
              "    border-radius: 50%;\n",
              "    cursor: pointer;\n",
              "    display: none;\n",
              "    fill: var(--fill-color);\n",
              "    height: 32px;\n",
              "    padding: 0;\n",
              "    width: 32px;\n",
              "  }\n",
              "\n",
              "  .colab-df-quickchart:hover {\n",
              "    background-color: var(--hover-bg-color);\n",
              "    box-shadow: 0 1px 2px rgba(60, 64, 67, 0.3), 0 1px 3px 1px rgba(60, 64, 67, 0.15);\n",
              "    fill: var(--button-hover-fill-color);\n",
              "  }\n",
              "\n",
              "  .colab-df-quickchart-complete:disabled,\n",
              "  .colab-df-quickchart-complete:disabled:hover {\n",
              "    background-color: var(--disabled-bg-color);\n",
              "    fill: var(--disabled-fill-color);\n",
              "    box-shadow: none;\n",
              "  }\n",
              "\n",
              "  .colab-df-spinner {\n",
              "    border: 2px solid var(--fill-color);\n",
              "    border-color: transparent;\n",
              "    border-bottom-color: var(--fill-color);\n",
              "    animation:\n",
              "      spin 1s steps(1) infinite;\n",
              "  }\n",
              "\n",
              "  @keyframes spin {\n",
              "    0% {\n",
              "      border-color: transparent;\n",
              "      border-bottom-color: var(--fill-color);\n",
              "      border-left-color: var(--fill-color);\n",
              "    }\n",
              "    20% {\n",
              "      border-color: transparent;\n",
              "      border-left-color: var(--fill-color);\n",
              "      border-top-color: var(--fill-color);\n",
              "    }\n",
              "    30% {\n",
              "      border-color: transparent;\n",
              "      border-left-color: var(--fill-color);\n",
              "      border-top-color: var(--fill-color);\n",
              "      border-right-color: var(--fill-color);\n",
              "    }\n",
              "    40% {\n",
              "      border-color: transparent;\n",
              "      border-right-color: var(--fill-color);\n",
              "      border-top-color: var(--fill-color);\n",
              "    }\n",
              "    60% {\n",
              "      border-color: transparent;\n",
              "      border-right-color: var(--fill-color);\n",
              "    }\n",
              "    80% {\n",
              "      border-color: transparent;\n",
              "      border-right-color: var(--fill-color);\n",
              "      border-bottom-color: var(--fill-color);\n",
              "    }\n",
              "    90% {\n",
              "      border-color: transparent;\n",
              "      border-bottom-color: var(--fill-color);\n",
              "    }\n",
              "  }\n",
              "</style>\n",
              "\n",
              "  <script>\n",
              "    async function quickchart(key) {\n",
              "      const quickchartButtonEl =\n",
              "        document.querySelector('#' + key + ' button');\n",
              "      quickchartButtonEl.disabled = true;  // To prevent multiple clicks.\n",
              "      quickchartButtonEl.classList.add('colab-df-spinner');\n",
              "      try {\n",
              "        const charts = await google.colab.kernel.invokeFunction(\n",
              "            'suggestCharts', [key], {});\n",
              "      } catch (error) {\n",
              "        console.error('Error during call to suggestCharts:', error);\n",
              "      }\n",
              "      quickchartButtonEl.classList.remove('colab-df-spinner');\n",
              "      quickchartButtonEl.classList.add('colab-df-quickchart-complete');\n",
              "    }\n",
              "    (() => {\n",
              "      let quickchartButtonEl =\n",
              "        document.querySelector('#df-7489aae7-2e06-4974-bb1b-82994825ce8d button');\n",
              "      quickchartButtonEl.style.display =\n",
              "        google.colab.kernel.accessAllowed ? 'block' : 'none';\n",
              "    })();\n",
              "  </script>\n",
              "</div>\n",
              "\n",
              "    </div>\n",
              "  </div>\n"
            ],
            "application/vnd.google.colaboratory.intrinsic+json": {
              "type": "dataframe",
              "summary": "{\n  \"name\": \"treino\",\n  \"rows\": 8,\n  \"fields\": [\n    {\n      \"column\": \"sobrevivente\",\n      \"properties\": {\n        \"dtype\": \"number\",\n        \"std\": 314.8713661874558,\n        \"min\": 0.0,\n        \"max\": 891.0,\n        \"num_unique_values\": 5,\n        \"samples\": [\n          0.3838383838383838,\n          1.0,\n          0.4865924542648585\n        ],\n        \"semantic_type\": \"\",\n        \"description\": \"\"\n      }\n    },\n    {\n      \"column\": \"classe\",\n      \"properties\": {\n        \"dtype\": \"number\",\n        \"std\": 314.2523437079693,\n        \"min\": 0.8360712409770513,\n        \"max\": 891.0,\n        \"num_unique_values\": 6,\n        \"samples\": [\n          891.0,\n          2.308641975308642,\n          3.0\n        ],\n        \"semantic_type\": \"\",\n        \"description\": \"\"\n      }\n    },\n    {\n      \"column\": \"idade\",\n      \"properties\": {\n        \"dtype\": \"number\",\n        \"std\": 242.9056731818781,\n        \"min\": 0.42,\n        \"max\": 714.0,\n        \"num_unique_values\": 8,\n        \"samples\": [\n          29.69911764705882,\n          28.0,\n          714.0\n        ],\n        \"semantic_type\": \"\",\n        \"description\": \"\"\n      }\n    },\n    {\n      \"column\": \"familia1\",\n      \"properties\": {\n        \"dtype\": \"number\",\n        \"std\": 314.4908277465442,\n        \"min\": 0.0,\n        \"max\": 891.0,\n        \"num_unique_values\": 6,\n        \"samples\": [\n          891.0,\n          0.5230078563411896,\n          8.0\n        ],\n        \"semantic_type\": \"\",\n        \"description\": \"\"\n      }\n    },\n    {\n      \"column\": \"familia2\",\n      \"properties\": {\n        \"dtype\": \"number\",\n        \"std\": 314.65971717879,\n        \"min\": 0.0,\n        \"max\": 891.0,\n        \"num_unique_values\": 5,\n        \"samples\": [\n          0.38159371492704824,\n          6.0,\n          0.8060572211299559\n        ],\n        \"semantic_type\": \"\",\n        \"description\": \"\"\n      }\n    },\n    {\n      \"column\": \"tarifa\",\n      \"properties\": {\n        \"dtype\": \"number\",\n        \"std\": 330.6256632228577,\n        \"min\": 0.0,\n        \"max\": 891.0,\n        \"num_unique_values\": 8,\n        \"samples\": [\n          32.204207968574636,\n          14.4542,\n          891.0\n        ],\n        \"semantic_type\": \"\",\n        \"description\": \"\"\n      }\n    }\n  ]\n}"
            }
          },
          "metadata": {},
          "execution_count": 7
        }
      ]
    },
    {
      "cell_type": "markdown",
      "metadata": {
        "id": "_CxBLrUIHqMH"
      },
      "source": [
        "Vale a pena também analisar as colunas que contém poucos valores, chamadas de categóricas, para identificar as classes presentes. Faremos isso chamando a função `.value_counts()` em cada uma."
      ]
    },
    {
      "cell_type": "code",
      "metadata": {
        "id": "Qm4aPEeZHqMH",
        "colab": {
          "base_uri": "https://localhost:8080/",
          "height": 178
        },
        "outputId": "4a1e8829-2b5d-439e-ab3f-d8d9f2e7dd97"
      },
      "source": [
        "treino['sobrevivente'].value_counts()"
      ],
      "execution_count": 8,
      "outputs": [
        {
          "output_type": "execute_result",
          "data": {
            "text/plain": [
              "sobrevivente\n",
              "0    549\n",
              "1    342\n",
              "Name: count, dtype: int64"
            ],
            "text/html": [
              "<div>\n",
              "<style scoped>\n",
              "    .dataframe tbody tr th:only-of-type {\n",
              "        vertical-align: middle;\n",
              "    }\n",
              "\n",
              "    .dataframe tbody tr th {\n",
              "        vertical-align: top;\n",
              "    }\n",
              "\n",
              "    .dataframe thead th {\n",
              "        text-align: right;\n",
              "    }\n",
              "</style>\n",
              "<table border=\"1\" class=\"dataframe\">\n",
              "  <thead>\n",
              "    <tr style=\"text-align: right;\">\n",
              "      <th></th>\n",
              "      <th>count</th>\n",
              "    </tr>\n",
              "    <tr>\n",
              "      <th>sobrevivente</th>\n",
              "      <th></th>\n",
              "    </tr>\n",
              "  </thead>\n",
              "  <tbody>\n",
              "    <tr>\n",
              "      <th>0</th>\n",
              "      <td>549</td>\n",
              "    </tr>\n",
              "    <tr>\n",
              "      <th>1</th>\n",
              "      <td>342</td>\n",
              "    </tr>\n",
              "  </tbody>\n",
              "</table>\n",
              "</div><br><label><b>dtype:</b> int64</label>"
            ]
          },
          "metadata": {},
          "execution_count": 8
        }
      ]
    },
    {
      "cell_type": "code",
      "metadata": {
        "id": "k2VMsds_HqMI",
        "colab": {
          "base_uri": "https://localhost:8080/",
          "height": 209
        },
        "outputId": "90baf3f2-488a-4f01-8cf8-4a824810c3f4"
      },
      "source": [
        "treino['classe'].value_counts()"
      ],
      "execution_count": 9,
      "outputs": [
        {
          "output_type": "execute_result",
          "data": {
            "text/plain": [
              "classe\n",
              "3    491\n",
              "1    216\n",
              "2    184\n",
              "Name: count, dtype: int64"
            ],
            "text/html": [
              "<div>\n",
              "<style scoped>\n",
              "    .dataframe tbody tr th:only-of-type {\n",
              "        vertical-align: middle;\n",
              "    }\n",
              "\n",
              "    .dataframe tbody tr th {\n",
              "        vertical-align: top;\n",
              "    }\n",
              "\n",
              "    .dataframe thead th {\n",
              "        text-align: right;\n",
              "    }\n",
              "</style>\n",
              "<table border=\"1\" class=\"dataframe\">\n",
              "  <thead>\n",
              "    <tr style=\"text-align: right;\">\n",
              "      <th></th>\n",
              "      <th>count</th>\n",
              "    </tr>\n",
              "    <tr>\n",
              "      <th>classe</th>\n",
              "      <th></th>\n",
              "    </tr>\n",
              "  </thead>\n",
              "  <tbody>\n",
              "    <tr>\n",
              "      <th>3</th>\n",
              "      <td>491</td>\n",
              "    </tr>\n",
              "    <tr>\n",
              "      <th>1</th>\n",
              "      <td>216</td>\n",
              "    </tr>\n",
              "    <tr>\n",
              "      <th>2</th>\n",
              "      <td>184</td>\n",
              "    </tr>\n",
              "  </tbody>\n",
              "</table>\n",
              "</div><br><label><b>dtype:</b> int64</label>"
            ]
          },
          "metadata": {},
          "execution_count": 9
        }
      ]
    },
    {
      "cell_type": "code",
      "metadata": {
        "id": "tdm4_txiHqMI",
        "colab": {
          "base_uri": "https://localhost:8080/",
          "height": 178
        },
        "outputId": "871b7b63-8bd8-470f-ae17-bbdaf2b902d8"
      },
      "source": [
        "treino['sexo'].value_counts()"
      ],
      "execution_count": 10,
      "outputs": [
        {
          "output_type": "execute_result",
          "data": {
            "text/plain": [
              "sexo\n",
              "M    577\n",
              "F    314\n",
              "Name: count, dtype: int64"
            ],
            "text/html": [
              "<div>\n",
              "<style scoped>\n",
              "    .dataframe tbody tr th:only-of-type {\n",
              "        vertical-align: middle;\n",
              "    }\n",
              "\n",
              "    .dataframe tbody tr th {\n",
              "        vertical-align: top;\n",
              "    }\n",
              "\n",
              "    .dataframe thead th {\n",
              "        text-align: right;\n",
              "    }\n",
              "</style>\n",
              "<table border=\"1\" class=\"dataframe\">\n",
              "  <thead>\n",
              "    <tr style=\"text-align: right;\">\n",
              "      <th></th>\n",
              "      <th>count</th>\n",
              "    </tr>\n",
              "    <tr>\n",
              "      <th>sexo</th>\n",
              "      <th></th>\n",
              "    </tr>\n",
              "  </thead>\n",
              "  <tbody>\n",
              "    <tr>\n",
              "      <th>M</th>\n",
              "      <td>577</td>\n",
              "    </tr>\n",
              "    <tr>\n",
              "      <th>F</th>\n",
              "      <td>314</td>\n",
              "    </tr>\n",
              "  </tbody>\n",
              "</table>\n",
              "</div><br><label><b>dtype:</b> int64</label>"
            ]
          },
          "metadata": {},
          "execution_count": 10
        }
      ]
    },
    {
      "cell_type": "code",
      "metadata": {
        "id": "Qab8aN62HqMJ",
        "colab": {
          "base_uri": "https://localhost:8080/",
          "height": 209
        },
        "outputId": "176e1ebe-36de-467a-c94f-13c268e8e421"
      },
      "source": [
        "treino['embarque'].value_counts()"
      ],
      "execution_count": 11,
      "outputs": [
        {
          "output_type": "execute_result",
          "data": {
            "text/plain": [
              "embarque\n",
              "S    644\n",
              "C    168\n",
              "Q     77\n",
              "Name: count, dtype: int64"
            ],
            "text/html": [
              "<div>\n",
              "<style scoped>\n",
              "    .dataframe tbody tr th:only-of-type {\n",
              "        vertical-align: middle;\n",
              "    }\n",
              "\n",
              "    .dataframe tbody tr th {\n",
              "        vertical-align: top;\n",
              "    }\n",
              "\n",
              "    .dataframe thead th {\n",
              "        text-align: right;\n",
              "    }\n",
              "</style>\n",
              "<table border=\"1\" class=\"dataframe\">\n",
              "  <thead>\n",
              "    <tr style=\"text-align: right;\">\n",
              "      <th></th>\n",
              "      <th>count</th>\n",
              "    </tr>\n",
              "    <tr>\n",
              "      <th>embarque</th>\n",
              "      <th></th>\n",
              "    </tr>\n",
              "  </thead>\n",
              "  <tbody>\n",
              "    <tr>\n",
              "      <th>S</th>\n",
              "      <td>644</td>\n",
              "    </tr>\n",
              "    <tr>\n",
              "      <th>C</th>\n",
              "      <td>168</td>\n",
              "    </tr>\n",
              "    <tr>\n",
              "      <th>Q</th>\n",
              "      <td>77</td>\n",
              "    </tr>\n",
              "  </tbody>\n",
              "</table>\n",
              "</div><br><label><b>dtype:</b> int64</label>"
            ]
          },
          "metadata": {},
          "execution_count": 11
        }
      ]
    },
    {
      "cell_type": "markdown",
      "metadata": {
        "id": "TQtHYgwZHqMJ"
      },
      "source": [
        "Como o atributo que desejamos prever, `sobrevivente` só tem dois valores, temos uma tarefa de **classificação binária**. Isso afeta diretamente quais algoritmos podemos usar para fazer o treino, posteriormente.\n",
        "\n",
        "Além disso, de 891 passageiros do conjunto de treino apenas 342 sobreviveram, o que equivale a 38%. O uso da **acurácia** como medida de desempenho parece adequado neste caso, uma vez que não há uma grande disparidade na quantidade de valores 0 e de valores 1."
      ]
    },
    {
      "cell_type": "markdown",
      "metadata": {
        "id": "-223Q-ufHqMK"
      },
      "source": [
        "# Correlação entre atributos\n",
        "\n",
        "Apenas para gerar uma intuição sobre os dados, vamos visualizar a correlação entre os atributos do conjunto de treino.\n",
        "\n",
        "Para isso usamos a função `.corr()` para calcular o coeficiente de correlação (também chamado de R de Pearson) entre cada par de atributos de um DataFrame.\n",
        "\n",
        "Então visualizamos a correlação com o nosso atributo alvo, `sobrevivente`:"
      ]
    },
    {
      "cell_type": "code",
      "metadata": {
        "id": "UnWlLNdFHqMK",
        "colab": {
          "base_uri": "https://localhost:8080/",
          "height": 429
        },
        "outputId": "1f894c8e-c5c2-4034-af2e-c6e4caf99a8f"
      },
      "source": [
        "# cálculo da matriz de\n",
        "corr = treino.apply(lambda x : pd.factorize(x)[0]).corr()\n",
        "\n",
        "# quanto cada atributo se correlaciona com o valor de 'sobrevivente'\n",
        "corr['sobrevivente']"
      ],
      "execution_count": 12,
      "outputs": [
        {
          "output_type": "execute_result",
          "data": {
            "text/plain": [
              "sobrevivente    1.000000\n",
              "classe          0.247845\n",
              "nome           -0.005007\n",
              "sexo            0.543351\n",
              "idade           0.042743\n",
              "familia1       -0.136302\n",
              "familia2        0.086210\n",
              "tiquete        -0.047298\n",
              "tarifa          0.191981\n",
              "cabine          0.270495\n",
              "embarque        0.101849\n",
              "Name: sobrevivente, dtype: float64"
            ],
            "text/html": [
              "<div>\n",
              "<style scoped>\n",
              "    .dataframe tbody tr th:only-of-type {\n",
              "        vertical-align: middle;\n",
              "    }\n",
              "\n",
              "    .dataframe tbody tr th {\n",
              "        vertical-align: top;\n",
              "    }\n",
              "\n",
              "    .dataframe thead th {\n",
              "        text-align: right;\n",
              "    }\n",
              "</style>\n",
              "<table border=\"1\" class=\"dataframe\">\n",
              "  <thead>\n",
              "    <tr style=\"text-align: right;\">\n",
              "      <th></th>\n",
              "      <th>sobrevivente</th>\n",
              "    </tr>\n",
              "  </thead>\n",
              "  <tbody>\n",
              "    <tr>\n",
              "      <th>sobrevivente</th>\n",
              "      <td>1.000000</td>\n",
              "    </tr>\n",
              "    <tr>\n",
              "      <th>classe</th>\n",
              "      <td>0.247845</td>\n",
              "    </tr>\n",
              "    <tr>\n",
              "      <th>nome</th>\n",
              "      <td>-0.005007</td>\n",
              "    </tr>\n",
              "    <tr>\n",
              "      <th>sexo</th>\n",
              "      <td>0.543351</td>\n",
              "    </tr>\n",
              "    <tr>\n",
              "      <th>idade</th>\n",
              "      <td>0.042743</td>\n",
              "    </tr>\n",
              "    <tr>\n",
              "      <th>familia1</th>\n",
              "      <td>-0.136302</td>\n",
              "    </tr>\n",
              "    <tr>\n",
              "      <th>familia2</th>\n",
              "      <td>0.086210</td>\n",
              "    </tr>\n",
              "    <tr>\n",
              "      <th>tiquete</th>\n",
              "      <td>-0.047298</td>\n",
              "    </tr>\n",
              "    <tr>\n",
              "      <th>tarifa</th>\n",
              "      <td>0.191981</td>\n",
              "    </tr>\n",
              "    <tr>\n",
              "      <th>cabine</th>\n",
              "      <td>0.270495</td>\n",
              "    </tr>\n",
              "    <tr>\n",
              "      <th>embarque</th>\n",
              "      <td>0.101849</td>\n",
              "    </tr>\n",
              "  </tbody>\n",
              "</table>\n",
              "</div><br><label><b>dtype:</b> float64</label>"
            ]
          },
          "metadata": {},
          "execution_count": 12
        }
      ]
    },
    {
      "cell_type": "markdown",
      "metadata": {
        "id": "dW5-IA2iHqML"
      },
      "source": [
        "Note que é possível visualizar a tabela inteira, que cruza cada um dos atributos com todos os demais, como visualizado abaixo. A escala de cores é de azul para valores negativos (no mínimo -1) e de vermelho para valores positivos (no máximo 1). Valores próximos ao zero são também mais próximos ao branco.\n",
        "\n",
        "Ainda que haja correlação forte entre alguns atributos, para esta análise só interessam correlações envolvendo o atributo `sobrevivente`, ou seja, da linha superior ou da coluna mais à esquerda da tabela."
      ]
    },
    {
      "cell_type": "code",
      "source": [
        "corr.style.background_gradient(cmap='bwr', vmin=-1).format(precision=2)"
      ],
      "metadata": {
        "id": "jNN0j_EdBTKn",
        "colab": {
          "base_uri": "https://localhost:8080/",
          "height": 394
        },
        "outputId": "9f794c7d-47e7-44d2-828e-7f4a1a87e33c"
      },
      "execution_count": 13,
      "outputs": [
        {
          "output_type": "execute_result",
          "data": {
            "text/plain": [
              "<pandas.io.formats.style.Styler at 0x7cf8b6714160>"
            ],
            "text/html": [
              "<style type=\"text/css\">\n",
              "#T_1c2a0_row0_col0, #T_1c2a0_row1_col1, #T_1c2a0_row2_col2, #T_1c2a0_row3_col3, #T_1c2a0_row4_col4, #T_1c2a0_row5_col5, #T_1c2a0_row6_col6, #T_1c2a0_row7_col7, #T_1c2a0_row8_col8, #T_1c2a0_row9_col9, #T_1c2a0_row10_col10 {\n",
              "  background-color: #ff0000;\n",
              "  color: #f1f1f1;\n",
              "}\n",
              "#T_1c2a0_row0_col1, #T_1c2a0_row1_col0, #T_1c2a0_row3_col6, #T_1c2a0_row6_col3 {\n",
              "  background-color: #ffc0c0;\n",
              "  color: #000000;\n",
              "}\n",
              "#T_1c2a0_row0_col2, #T_1c2a0_row1_col6, #T_1c2a0_row2_col0, #T_1c2a0_row6_col1, #T_1c2a0_row6_col9, #T_1c2a0_row9_col6 {\n",
              "  background-color: #fefeff;\n",
              "  color: #000000;\n",
              "}\n",
              "#T_1c2a0_row0_col3, #T_1c2a0_row3_col0 {\n",
              "  background-color: #ff7474;\n",
              "  color: #f1f1f1;\n",
              "}\n",
              "#T_1c2a0_row0_col4, #T_1c2a0_row4_col0 {\n",
              "  background-color: #fff4f4;\n",
              "  color: #000000;\n",
              "}\n",
              "#T_1c2a0_row0_col5, #T_1c2a0_row5_col0 {\n",
              "  background-color: #dcdcff;\n",
              "  color: #000000;\n",
              "}\n",
              "#T_1c2a0_row0_col6, #T_1c2a0_row6_col0 {\n",
              "  background-color: #ffe8e8;\n",
              "  color: #000000;\n",
              "}\n",
              "#T_1c2a0_row0_col7, #T_1c2a0_row7_col0 {\n",
              "  background-color: #f2f2ff;\n",
              "  color: #000000;\n",
              "}\n",
              "#T_1c2a0_row0_col8, #T_1c2a0_row8_col0 {\n",
              "  background-color: #ffcece;\n",
              "  color: #000000;\n",
              "}\n",
              "#T_1c2a0_row0_col9, #T_1c2a0_row9_col0 {\n",
              "  background-color: #ffbaba;\n",
              "  color: #000000;\n",
              "}\n",
              "#T_1c2a0_row0_col10, #T_1c2a0_row10_col0 {\n",
              "  background-color: #ffe4e4;\n",
              "  color: #000000;\n",
              "}\n",
              "#T_1c2a0_row1_col2, #T_1c2a0_row1_col7, #T_1c2a0_row2_col1, #T_1c2a0_row7_col1, #T_1c2a0_row9_col10, #T_1c2a0_row10_col9 {\n",
              "  background-color: #fffafa;\n",
              "  color: #000000;\n",
              "}\n",
              "#T_1c2a0_row1_col3, #T_1c2a0_row2_col4, #T_1c2a0_row3_col1, #T_1c2a0_row4_col2 {\n",
              "  background-color: #ffe0e0;\n",
              "  color: #000000;\n",
              "}\n",
              "#T_1c2a0_row1_col4, #T_1c2a0_row1_col9, #T_1c2a0_row4_col1, #T_1c2a0_row9_col1 {\n",
              "  background-color: #ffd0d0;\n",
              "  color: #000000;\n",
              "}\n",
              "#T_1c2a0_row1_col5, #T_1c2a0_row4_col10, #T_1c2a0_row5_col1, #T_1c2a0_row10_col4 {\n",
              "  background-color: #d8d8ff;\n",
              "  color: #000000;\n",
              "}\n",
              "#T_1c2a0_row1_col8, #T_1c2a0_row3_col9, #T_1c2a0_row8_col1, #T_1c2a0_row9_col3 {\n",
              "  background-color: #ffeaea;\n",
              "  color: #000000;\n",
              "}\n",
              "#T_1c2a0_row1_col10, #T_1c2a0_row10_col1 {\n",
              "  background-color: #d4d4ff;\n",
              "  color: #000000;\n",
              "}\n",
              "#T_1c2a0_row2_col3, #T_1c2a0_row3_col2, #T_1c2a0_row3_col5, #T_1c2a0_row5_col3, #T_1c2a0_row5_col8, #T_1c2a0_row8_col5 {\n",
              "  background-color: #f4f4ff;\n",
              "  color: #000000;\n",
              "}\n",
              "#T_1c2a0_row2_col5, #T_1c2a0_row2_col10, #T_1c2a0_row5_col2, #T_1c2a0_row5_col10, #T_1c2a0_row10_col2, #T_1c2a0_row10_col5 {\n",
              "  background-color: #f8f8ff;\n",
              "  color: #000000;\n",
              "}\n",
              "#T_1c2a0_row2_col6, #T_1c2a0_row4_col5, #T_1c2a0_row5_col4, #T_1c2a0_row6_col2 {\n",
              "  background-color: #fffefe;\n",
              "  color: #000000;\n",
              "}\n",
              "#T_1c2a0_row2_col7, #T_1c2a0_row7_col2 {\n",
              "  background-color: #ff3c3c;\n",
              "  color: #f1f1f1;\n",
              "}\n",
              "#T_1c2a0_row2_col8, #T_1c2a0_row7_col8, #T_1c2a0_row8_col2, #T_1c2a0_row8_col7 {\n",
              "  background-color: #ffb2b2;\n",
              "  color: #000000;\n",
              "}\n",
              "#T_1c2a0_row2_col9, #T_1c2a0_row9_col2 {\n",
              "  background-color: #ffc2c2;\n",
              "  color: #000000;\n",
              "}\n",
              "#T_1c2a0_row3_col4, #T_1c2a0_row4_col3 {\n",
              "  background-color: #fffcfc;\n",
              "  color: #000000;\n",
              "}\n",
              "#T_1c2a0_row3_col7, #T_1c2a0_row7_col3 {\n",
              "  background-color: #dedeff;\n",
              "  color: #000000;\n",
              "}\n",
              "#T_1c2a0_row3_col8, #T_1c2a0_row4_col6, #T_1c2a0_row6_col4, #T_1c2a0_row8_col3 {\n",
              "  background-color: #ffdcdc;\n",
              "  color: #000000;\n",
              "}\n",
              "#T_1c2a0_row3_col10, #T_1c2a0_row4_col8, #T_1c2a0_row8_col4, #T_1c2a0_row10_col3 {\n",
              "  background-color: #ffe2e2;\n",
              "  color: #000000;\n",
              "}\n",
              "#T_1c2a0_row4_col7, #T_1c2a0_row6_col8, #T_1c2a0_row7_col4, #T_1c2a0_row8_col6, #T_1c2a0_row8_col10, #T_1c2a0_row10_col8 {\n",
              "  background-color: #ffecec;\n",
              "  color: #000000;\n",
              "}\n",
              "#T_1c2a0_row4_col9, #T_1c2a0_row5_col6, #T_1c2a0_row6_col5, #T_1c2a0_row9_col4 {\n",
              "  background-color: #ffd4d4;\n",
              "  color: #000000;\n",
              "}\n",
              "#T_1c2a0_row5_col7, #T_1c2a0_row7_col5 {\n",
              "  background-color: #e0e0ff;\n",
              "  color: #000000;\n",
              "}\n",
              "#T_1c2a0_row5_col9, #T_1c2a0_row9_col5 {\n",
              "  background-color: #e4e4ff;\n",
              "  color: #000000;\n",
              "}\n",
              "#T_1c2a0_row6_col7, #T_1c2a0_row7_col6 {\n",
              "  background-color: #bcbcff;\n",
              "  color: #000000;\n",
              "}\n",
              "#T_1c2a0_row6_col10, #T_1c2a0_row10_col6 {\n",
              "  background-color: #eaeaff;\n",
              "  color: #000000;\n",
              "}\n",
              "#T_1c2a0_row7_col9, #T_1c2a0_row9_col7 {\n",
              "  background-color: #ffc8c8;\n",
              "  color: #000000;\n",
              "}\n",
              "#T_1c2a0_row7_col10, #T_1c2a0_row10_col7 {\n",
              "  background-color: #fafaff;\n",
              "  color: #000000;\n",
              "}\n",
              "#T_1c2a0_row8_col9, #T_1c2a0_row9_col8 {\n",
              "  background-color: #ff9e9e;\n",
              "  color: #000000;\n",
              "}\n",
              "</style>\n",
              "<table id=\"T_1c2a0\" class=\"dataframe\">\n",
              "  <thead>\n",
              "    <tr>\n",
              "      <th class=\"blank level0\" >&nbsp;</th>\n",
              "      <th id=\"T_1c2a0_level0_col0\" class=\"col_heading level0 col0\" >sobrevivente</th>\n",
              "      <th id=\"T_1c2a0_level0_col1\" class=\"col_heading level0 col1\" >classe</th>\n",
              "      <th id=\"T_1c2a0_level0_col2\" class=\"col_heading level0 col2\" >nome</th>\n",
              "      <th id=\"T_1c2a0_level0_col3\" class=\"col_heading level0 col3\" >sexo</th>\n",
              "      <th id=\"T_1c2a0_level0_col4\" class=\"col_heading level0 col4\" >idade</th>\n",
              "      <th id=\"T_1c2a0_level0_col5\" class=\"col_heading level0 col5\" >familia1</th>\n",
              "      <th id=\"T_1c2a0_level0_col6\" class=\"col_heading level0 col6\" >familia2</th>\n",
              "      <th id=\"T_1c2a0_level0_col7\" class=\"col_heading level0 col7\" >tiquete</th>\n",
              "      <th id=\"T_1c2a0_level0_col8\" class=\"col_heading level0 col8\" >tarifa</th>\n",
              "      <th id=\"T_1c2a0_level0_col9\" class=\"col_heading level0 col9\" >cabine</th>\n",
              "      <th id=\"T_1c2a0_level0_col10\" class=\"col_heading level0 col10\" >embarque</th>\n",
              "    </tr>\n",
              "  </thead>\n",
              "  <tbody>\n",
              "    <tr>\n",
              "      <th id=\"T_1c2a0_level0_row0\" class=\"row_heading level0 row0\" >sobrevivente</th>\n",
              "      <td id=\"T_1c2a0_row0_col0\" class=\"data row0 col0\" >1.00</td>\n",
              "      <td id=\"T_1c2a0_row0_col1\" class=\"data row0 col1\" >0.25</td>\n",
              "      <td id=\"T_1c2a0_row0_col2\" class=\"data row0 col2\" >-0.01</td>\n",
              "      <td id=\"T_1c2a0_row0_col3\" class=\"data row0 col3\" >0.54</td>\n",
              "      <td id=\"T_1c2a0_row0_col4\" class=\"data row0 col4\" >0.04</td>\n",
              "      <td id=\"T_1c2a0_row0_col5\" class=\"data row0 col5\" >-0.14</td>\n",
              "      <td id=\"T_1c2a0_row0_col6\" class=\"data row0 col6\" >0.09</td>\n",
              "      <td id=\"T_1c2a0_row0_col7\" class=\"data row0 col7\" >-0.05</td>\n",
              "      <td id=\"T_1c2a0_row0_col8\" class=\"data row0 col8\" >0.19</td>\n",
              "      <td id=\"T_1c2a0_row0_col9\" class=\"data row0 col9\" >0.27</td>\n",
              "      <td id=\"T_1c2a0_row0_col10\" class=\"data row0 col10\" >0.10</td>\n",
              "    </tr>\n",
              "    <tr>\n",
              "      <th id=\"T_1c2a0_level0_row1\" class=\"row_heading level0 row1\" >classe</th>\n",
              "      <td id=\"T_1c2a0_row1_col0\" class=\"data row1 col0\" >0.25</td>\n",
              "      <td id=\"T_1c2a0_row1_col1\" class=\"data row1 col1\" >1.00</td>\n",
              "      <td id=\"T_1c2a0_row1_col2\" class=\"data row1 col2\" >0.02</td>\n",
              "      <td id=\"T_1c2a0_row1_col3\" class=\"data row1 col3\" >0.12</td>\n",
              "      <td id=\"T_1c2a0_row1_col4\" class=\"data row1 col4\" >0.18</td>\n",
              "      <td id=\"T_1c2a0_row1_col5\" class=\"data row1 col5\" >-0.15</td>\n",
              "      <td id=\"T_1c2a0_row1_col6\" class=\"data row1 col6\" >-0.00</td>\n",
              "      <td id=\"T_1c2a0_row1_col7\" class=\"data row1 col7\" >0.02</td>\n",
              "      <td id=\"T_1c2a0_row1_col8\" class=\"data row1 col8\" >0.08</td>\n",
              "      <td id=\"T_1c2a0_row1_col9\" class=\"data row1 col9\" >0.19</td>\n",
              "      <td id=\"T_1c2a0_row1_col10\" class=\"data row1 col10\" >-0.17</td>\n",
              "    </tr>\n",
              "    <tr>\n",
              "      <th id=\"T_1c2a0_level0_row2\" class=\"row_heading level0 row2\" >nome</th>\n",
              "      <td id=\"T_1c2a0_row2_col0\" class=\"data row2 col0\" >-0.01</td>\n",
              "      <td id=\"T_1c2a0_row2_col1\" class=\"data row2 col1\" >0.02</td>\n",
              "      <td id=\"T_1c2a0_row2_col2\" class=\"data row2 col2\" >1.00</td>\n",
              "      <td id=\"T_1c2a0_row2_col3\" class=\"data row2 col3\" >-0.04</td>\n",
              "      <td id=\"T_1c2a0_row2_col4\" class=\"data row2 col4\" >0.12</td>\n",
              "      <td id=\"T_1c2a0_row2_col5\" class=\"data row2 col5\" >-0.03</td>\n",
              "      <td id=\"T_1c2a0_row2_col6\" class=\"data row2 col6\" >0.00</td>\n",
              "      <td id=\"T_1c2a0_row2_col7\" class=\"data row2 col7\" >0.76</td>\n",
              "      <td id=\"T_1c2a0_row2_col8\" class=\"data row2 col8\" >0.30</td>\n",
              "      <td id=\"T_1c2a0_row2_col9\" class=\"data row2 col9\" >0.24</td>\n",
              "      <td id=\"T_1c2a0_row2_col10\" class=\"data row2 col10\" >-0.03</td>\n",
              "    </tr>\n",
              "    <tr>\n",
              "      <th id=\"T_1c2a0_level0_row3\" class=\"row_heading level0 row3\" >sexo</th>\n",
              "      <td id=\"T_1c2a0_row3_col0\" class=\"data row3 col0\" >0.54</td>\n",
              "      <td id=\"T_1c2a0_row3_col1\" class=\"data row3 col1\" >0.12</td>\n",
              "      <td id=\"T_1c2a0_row3_col2\" class=\"data row3 col2\" >-0.04</td>\n",
              "      <td id=\"T_1c2a0_row3_col3\" class=\"data row3 col3\" >1.00</td>\n",
              "      <td id=\"T_1c2a0_row3_col4\" class=\"data row3 col4\" >0.01</td>\n",
              "      <td id=\"T_1c2a0_row3_col5\" class=\"data row3 col5\" >-0.05</td>\n",
              "      <td id=\"T_1c2a0_row3_col6\" class=\"data row3 col6\" >0.24</td>\n",
              "      <td id=\"T_1c2a0_row3_col7\" class=\"data row3 col7\" >-0.13</td>\n",
              "      <td id=\"T_1c2a0_row3_col8\" class=\"data row3 col8\" >0.14</td>\n",
              "      <td id=\"T_1c2a0_row3_col9\" class=\"data row3 col9\" >0.08</td>\n",
              "      <td id=\"T_1c2a0_row3_col10\" class=\"data row3 col10\" >0.11</td>\n",
              "    </tr>\n",
              "    <tr>\n",
              "      <th id=\"T_1c2a0_level0_row4\" class=\"row_heading level0 row4\" >idade</th>\n",
              "      <td id=\"T_1c2a0_row4_col0\" class=\"data row4 col0\" >0.04</td>\n",
              "      <td id=\"T_1c2a0_row4_col1\" class=\"data row4 col1\" >0.18</td>\n",
              "      <td id=\"T_1c2a0_row4_col2\" class=\"data row4 col2\" >0.12</td>\n",
              "      <td id=\"T_1c2a0_row4_col3\" class=\"data row4 col3\" >0.01</td>\n",
              "      <td id=\"T_1c2a0_row4_col4\" class=\"data row4 col4\" >1.00</td>\n",
              "      <td id=\"T_1c2a0_row4_col5\" class=\"data row4 col5\" >0.00</td>\n",
              "      <td id=\"T_1c2a0_row4_col6\" class=\"data row4 col6\" >0.14</td>\n",
              "      <td id=\"T_1c2a0_row4_col7\" class=\"data row4 col7\" >0.07</td>\n",
              "      <td id=\"T_1c2a0_row4_col8\" class=\"data row4 col8\" >0.11</td>\n",
              "      <td id=\"T_1c2a0_row4_col9\" class=\"data row4 col9\" >0.17</td>\n",
              "      <td id=\"T_1c2a0_row4_col10\" class=\"data row4 col10\" >-0.15</td>\n",
              "    </tr>\n",
              "    <tr>\n",
              "      <th id=\"T_1c2a0_level0_row5\" class=\"row_heading level0 row5\" >familia1</th>\n",
              "      <td id=\"T_1c2a0_row5_col0\" class=\"data row5 col0\" >-0.14</td>\n",
              "      <td id=\"T_1c2a0_row5_col1\" class=\"data row5 col1\" >-0.15</td>\n",
              "      <td id=\"T_1c2a0_row5_col2\" class=\"data row5 col2\" >-0.03</td>\n",
              "      <td id=\"T_1c2a0_row5_col3\" class=\"data row5 col3\" >-0.05</td>\n",
              "      <td id=\"T_1c2a0_row5_col4\" class=\"data row5 col4\" >0.00</td>\n",
              "      <td id=\"T_1c2a0_row5_col5\" class=\"data row5 col5\" >1.00</td>\n",
              "      <td id=\"T_1c2a0_row5_col6\" class=\"data row5 col6\" >0.17</td>\n",
              "      <td id=\"T_1c2a0_row5_col7\" class=\"data row5 col7\" >-0.12</td>\n",
              "      <td id=\"T_1c2a0_row5_col8\" class=\"data row5 col8\" >-0.05</td>\n",
              "      <td id=\"T_1c2a0_row5_col9\" class=\"data row5 col9\" >-0.11</td>\n",
              "      <td id=\"T_1c2a0_row5_col10\" class=\"data row5 col10\" >-0.03</td>\n",
              "    </tr>\n",
              "    <tr>\n",
              "      <th id=\"T_1c2a0_level0_row6\" class=\"row_heading level0 row6\" >familia2</th>\n",
              "      <td id=\"T_1c2a0_row6_col0\" class=\"data row6 col0\" >0.09</td>\n",
              "      <td id=\"T_1c2a0_row6_col1\" class=\"data row6 col1\" >-0.00</td>\n",
              "      <td id=\"T_1c2a0_row6_col2\" class=\"data row6 col2\" >0.00</td>\n",
              "      <td id=\"T_1c2a0_row6_col3\" class=\"data row6 col3\" >0.24</td>\n",
              "      <td id=\"T_1c2a0_row6_col4\" class=\"data row6 col4\" >0.14</td>\n",
              "      <td id=\"T_1c2a0_row6_col5\" class=\"data row6 col5\" >0.17</td>\n",
              "      <td id=\"T_1c2a0_row6_col6\" class=\"data row6 col6\" >1.00</td>\n",
              "      <td id=\"T_1c2a0_row6_col7\" class=\"data row6 col7\" >-0.26</td>\n",
              "      <td id=\"T_1c2a0_row6_col8\" class=\"data row6 col8\" >0.07</td>\n",
              "      <td id=\"T_1c2a0_row6_col9\" class=\"data row6 col9\" >-0.00</td>\n",
              "      <td id=\"T_1c2a0_row6_col10\" class=\"data row6 col10\" >-0.08</td>\n",
              "    </tr>\n",
              "    <tr>\n",
              "      <th id=\"T_1c2a0_level0_row7\" class=\"row_heading level0 row7\" >tiquete</th>\n",
              "      <td id=\"T_1c2a0_row7_col0\" class=\"data row7 col0\" >-0.05</td>\n",
              "      <td id=\"T_1c2a0_row7_col1\" class=\"data row7 col1\" >0.02</td>\n",
              "      <td id=\"T_1c2a0_row7_col2\" class=\"data row7 col2\" >0.76</td>\n",
              "      <td id=\"T_1c2a0_row7_col3\" class=\"data row7 col3\" >-0.13</td>\n",
              "      <td id=\"T_1c2a0_row7_col4\" class=\"data row7 col4\" >0.07</td>\n",
              "      <td id=\"T_1c2a0_row7_col5\" class=\"data row7 col5\" >-0.12</td>\n",
              "      <td id=\"T_1c2a0_row7_col6\" class=\"data row7 col6\" >-0.26</td>\n",
              "      <td id=\"T_1c2a0_row7_col7\" class=\"data row7 col7\" >1.00</td>\n",
              "      <td id=\"T_1c2a0_row7_col8\" class=\"data row7 col8\" >0.30</td>\n",
              "      <td id=\"T_1c2a0_row7_col9\" class=\"data row7 col9\" >0.21</td>\n",
              "      <td id=\"T_1c2a0_row7_col10\" class=\"data row7 col10\" >-0.02</td>\n",
              "    </tr>\n",
              "    <tr>\n",
              "      <th id=\"T_1c2a0_level0_row8\" class=\"row_heading level0 row8\" >tarifa</th>\n",
              "      <td id=\"T_1c2a0_row8_col0\" class=\"data row8 col0\" >0.19</td>\n",
              "      <td id=\"T_1c2a0_row8_col1\" class=\"data row8 col1\" >0.08</td>\n",
              "      <td id=\"T_1c2a0_row8_col2\" class=\"data row8 col2\" >0.30</td>\n",
              "      <td id=\"T_1c2a0_row8_col3\" class=\"data row8 col3\" >0.14</td>\n",
              "      <td id=\"T_1c2a0_row8_col4\" class=\"data row8 col4\" >0.11</td>\n",
              "      <td id=\"T_1c2a0_row8_col5\" class=\"data row8 col5\" >-0.05</td>\n",
              "      <td id=\"T_1c2a0_row8_col6\" class=\"data row8 col6\" >0.07</td>\n",
              "      <td id=\"T_1c2a0_row8_col7\" class=\"data row8 col7\" >0.30</td>\n",
              "      <td id=\"T_1c2a0_row8_col8\" class=\"data row8 col8\" >1.00</td>\n",
              "      <td id=\"T_1c2a0_row8_col9\" class=\"data row8 col9\" >0.38</td>\n",
              "      <td id=\"T_1c2a0_row8_col10\" class=\"data row8 col10\" >0.08</td>\n",
              "    </tr>\n",
              "    <tr>\n",
              "      <th id=\"T_1c2a0_level0_row9\" class=\"row_heading level0 row9\" >cabine</th>\n",
              "      <td id=\"T_1c2a0_row9_col0\" class=\"data row9 col0\" >0.27</td>\n",
              "      <td id=\"T_1c2a0_row9_col1\" class=\"data row9 col1\" >0.19</td>\n",
              "      <td id=\"T_1c2a0_row9_col2\" class=\"data row9 col2\" >0.24</td>\n",
              "      <td id=\"T_1c2a0_row9_col3\" class=\"data row9 col3\" >0.08</td>\n",
              "      <td id=\"T_1c2a0_row9_col4\" class=\"data row9 col4\" >0.17</td>\n",
              "      <td id=\"T_1c2a0_row9_col5\" class=\"data row9 col5\" >-0.11</td>\n",
              "      <td id=\"T_1c2a0_row9_col6\" class=\"data row9 col6\" >-0.00</td>\n",
              "      <td id=\"T_1c2a0_row9_col7\" class=\"data row9 col7\" >0.21</td>\n",
              "      <td id=\"T_1c2a0_row9_col8\" class=\"data row9 col8\" >0.38</td>\n",
              "      <td id=\"T_1c2a0_row9_col9\" class=\"data row9 col9\" >1.00</td>\n",
              "      <td id=\"T_1c2a0_row9_col10\" class=\"data row9 col10\" >0.02</td>\n",
              "    </tr>\n",
              "    <tr>\n",
              "      <th id=\"T_1c2a0_level0_row10\" class=\"row_heading level0 row10\" >embarque</th>\n",
              "      <td id=\"T_1c2a0_row10_col0\" class=\"data row10 col0\" >0.10</td>\n",
              "      <td id=\"T_1c2a0_row10_col1\" class=\"data row10 col1\" >-0.17</td>\n",
              "      <td id=\"T_1c2a0_row10_col2\" class=\"data row10 col2\" >-0.03</td>\n",
              "      <td id=\"T_1c2a0_row10_col3\" class=\"data row10 col3\" >0.11</td>\n",
              "      <td id=\"T_1c2a0_row10_col4\" class=\"data row10 col4\" >-0.15</td>\n",
              "      <td id=\"T_1c2a0_row10_col5\" class=\"data row10 col5\" >-0.03</td>\n",
              "      <td id=\"T_1c2a0_row10_col6\" class=\"data row10 col6\" >-0.08</td>\n",
              "      <td id=\"T_1c2a0_row10_col7\" class=\"data row10 col7\" >-0.02</td>\n",
              "      <td id=\"T_1c2a0_row10_col8\" class=\"data row10 col8\" >0.08</td>\n",
              "      <td id=\"T_1c2a0_row10_col9\" class=\"data row10 col9\" >0.02</td>\n",
              "      <td id=\"T_1c2a0_row10_col10\" class=\"data row10 col10\" >1.00</td>\n",
              "    </tr>\n",
              "  </tbody>\n",
              "</table>\n"
            ]
          },
          "metadata": {},
          "execution_count": 13
        }
      ]
    },
    {
      "cell_type": "markdown",
      "metadata": {
        "id": "m7yVZPJPHqML"
      },
      "source": [
        "# Separação dos dados\n",
        "\n",
        "Agora vamos separar cada conjunto de dados em duas partes: `features`, que são os atributos sobre os quais treinaremos o modelo, e `rotulos`, que contém o atributo a ser previsto (no caso, apenas `sobrevivente`).\n",
        "        \n",
        "Para simplificar, vamos ignorar os atributos `nome`, `tiquete` e `cabine`, que são meramente textuais."
      ]
    },
    {
      "cell_type": "code",
      "metadata": {
        "id": "bxPKrQ2UHqMM"
      },
      "source": [
        "# separacão das features\n",
        "treino_features = treino[['classe', 'sexo', 'idade', 'familia1', 'familia2', 'tarifa', 'embarque']]\n",
        "teste_features  =  teste[['classe', 'sexo', 'idade', 'familia1', 'familia2', 'tarifa', 'embarque']]\n",
        "\n",
        "# separação dos rótulos\n",
        "treino_rotulos = treino[['sobrevivente']]\n",
        "teste_rotulos  =  teste[['sobrevivente']]"
      ],
      "execution_count": 14,
      "outputs": []
    },
    {
      "cell_type": "markdown",
      "metadata": {
        "id": "8GIdQGTIHqMM"
      },
      "source": [
        "Vamos ver o número de linhas e de colunas de cada subconjunto criado:"
      ]
    },
    {
      "cell_type": "code",
      "metadata": {
        "id": "edgzV-hxHqMN",
        "colab": {
          "base_uri": "https://localhost:8080/"
        },
        "outputId": "73fe67fe-96a6-4afa-d8ac-e2b2081966fa"
      },
      "source": [
        "print('treino_features:', treino_features.shape)\n",
        "print('treino_rotulos: ', treino_rotulos.shape)\n",
        "print('teste_features: ', teste_features.shape)\n",
        "print('teste_rotulos:  ', teste_rotulos.shape)"
      ],
      "execution_count": 15,
      "outputs": [
        {
          "output_type": "stream",
          "name": "stdout",
          "text": [
            "treino_features: (891, 7)\n",
            "treino_rotulos:  (891, 1)\n",
            "teste_features:  (418, 7)\n",
            "teste_rotulos:   (418, 1)\n"
          ]
        }
      ]
    },
    {
      "cell_type": "markdown",
      "metadata": {
        "id": "-3AKdGlWHqMN"
      },
      "source": [
        "# Preprocessamento\n",
        "\n",
        "Aqui faremos a etapa de preprocessamento, necessária para transformar os dados brutos em valores mais adequados para os algoritmos de Machine Learning.\n",
        "\n",
        "Lembrando, todo o processo de transformação dos dados é chamado de _pipeline_."
      ]
    },
    {
      "cell_type": "code",
      "metadata": {
        "id": "fCDf9ujbHqMN"
      },
      "source": [
        "from sklearn.pipeline import Pipeline"
      ],
      "execution_count": 16,
      "outputs": []
    },
    {
      "cell_type": "code",
      "metadata": {
        "id": "xozttE8tHqMO"
      },
      "source": [
        "# aqui definimos uma etapa auxiliar do pipeline para atributos categóricos:\n",
        "# esta substitui valores faltando pelo mais frequente de cada coluna\n",
        "# (não se preocupe com os detalhes do código)\n",
        "\n",
        "from sklearn.base import BaseEstimator, TransformerMixin\n",
        "\n",
        "class MostFrequentImputer(BaseEstimator, TransformerMixin):\n",
        "    def fit(self, X, y=None):\n",
        "        self.most_frequent_ = pd.Series([X[c].value_counts().index[0] for c in X], index=X.columns)\n",
        "        return self\n",
        "    def transform(self, X, y=None):\n",
        "        return X.fillna(self.most_frequent_)"
      ],
      "execution_count": 17,
      "outputs": []
    },
    {
      "cell_type": "markdown",
      "metadata": {
        "id": "JFxkRxWpHqMO"
      },
      "source": [
        "Atributos numéricos (contínuos) e atributos categóricos (discretos) precisam ser processados separadamente.\n",
        "\n",
        "O trecho a seguir define um _pipeline_ genérico, apenas para os atributos numéricos. A etapa usando `SimpleImputer(strategy='median')` preenche valores faltando com a mediana dos valores daquele atributo.\n",
        "\n",
        "**Ajuste:** A etapa de escalonamento usando `StandardScaler()` está desativada. Depois de medir o desempenho do modelo você pode ativar esta etapa, rodando novamente o preprocessamento e o treino, para verificar se isto melhora a qualidade do modelo."
      ]
    },
    {
      "cell_type": "code",
      "metadata": {
        "id": "lqrZMAMaHqMO"
      },
      "source": [
        "# pipeline para atributos numéricos\n",
        "\n",
        "from sklearn.impute import SimpleImputer\n",
        "from sklearn.preprocessing import StandardScaler\n",
        "\n",
        "num_pipeline = Pipeline([\n",
        "    ('imputer', SimpleImputer(strategy='median')),\n",
        "    #('std_scaler', StandardScaler()),\n",
        "])"
      ],
      "execution_count": 18,
      "outputs": []
    },
    {
      "cell_type": "markdown",
      "metadata": {
        "id": "C__czxSGHqMP"
      },
      "source": [
        "O trecho a seguir define um pipeline genérico, apenas para os atributos categóricos.\n",
        "\n",
        "A etapa usando `MostFrequentImputer()` preenche valores faltando com o mais frequente dos valores daquele atributo. Já a etapa seguinte, usando `OneHotEncoder()` expande cada atributo que não é numérico (`classe`, `sexo` ou `embarque`) para um conjunto de atributos binários. Esta precisa ser a última etapa desse _pipeline_."
      ]
    },
    {
      "cell_type": "code",
      "metadata": {
        "id": "b19ItpYRHqMP"
      },
      "source": [
        "# pipeline para atributos categóricos\n",
        "\n",
        "from sklearn.preprocessing import OneHotEncoder\n",
        "\n",
        "cat_pipeline = Pipeline([\n",
        "    ('imputer', MostFrequentImputer()),\n",
        "    ('encoder', OneHotEncoder(sparse_output=False)),\n",
        "])"
      ],
      "execution_count": 19,
      "outputs": []
    },
    {
      "cell_type": "markdown",
      "metadata": {
        "id": "kEK1AeqQHqMP"
      },
      "source": [
        "A seguir usamos o recurso `ColumnTransformer`, muito útil, para aplicar determinados _pipelines_ para apenas alguns atributos dos dados. Assim temos um _pipeline_ inteligente que processa os dados de uma só vez, mas executa operações diferentes conforme a natureza de cada atributo."
      ]
    },
    {
      "cell_type": "code",
      "metadata": {
        "id": "c6vWwNc6HqMQ"
      },
      "source": [
        "# pipeline combinando atributos numéricos com atributos categóricos\n",
        "\n",
        "from sklearn.compose import ColumnTransformer\n",
        "\n",
        "full_pipeline = ColumnTransformer([\n",
        "    ('num', num_pipeline, ['idade', 'familia1', 'familia2', 'tarifa']),\n",
        "    ('cat', cat_pipeline, ['classe', 'sexo', 'embarque']),\n",
        "])"
      ],
      "execution_count": 20,
      "outputs": []
    },
    {
      "cell_type": "markdown",
      "metadata": {
        "id": "xrP6Ek37HqMQ"
      },
      "source": [
        "Enfim, processamos os features de treino, gerando um novo conjunto de dados pronto para o treinamento."
      ]
    },
    {
      "cell_type": "code",
      "metadata": {
        "id": "m_TB8ZmeHqMQ",
        "colab": {
          "base_uri": "https://localhost:8080/"
        },
        "outputId": "c80e81f0-4ec6-4e48-ab0f-2f76755be742"
      },
      "source": [
        "X_treino = full_pipeline.fit_transform(treino_features)\n",
        "print('X_treino:', X_treino.shape)\n",
        "print(X_treino)"
      ],
      "execution_count": 21,
      "outputs": [
        {
          "output_type": "stream",
          "name": "stdout",
          "text": [
            "X_treino: (891, 12)\n",
            "[[22.  1.  0. ...  0.  0.  1.]\n",
            " [38.  1.  0. ...  1.  0.  0.]\n",
            " [26.  0.  0. ...  0.  0.  1.]\n",
            " ...\n",
            " [28.  1.  2. ...  0.  0.  1.]\n",
            " [26.  0.  0. ...  1.  0.  0.]\n",
            " [32.  0.  0. ...  0.  1.  0.]]\n"
          ]
        }
      ]
    },
    {
      "cell_type": "markdown",
      "metadata": {
        "id": "nhJcQK8HHqMR"
      },
      "source": [
        "Aqui vamos extrair somente os dados brutos dos rótulos, e colocar em `y_treino`, que é o formato esperado pelos algoritmos de Machine Learning."
      ]
    },
    {
      "cell_type": "code",
      "metadata": {
        "id": "qXYFoBNnHqMR",
        "colab": {
          "base_uri": "https://localhost:8080/"
        },
        "outputId": "6118db4f-886d-45ad-f3ed-bba55e9970c3"
      },
      "source": [
        "y_treino = treino_rotulos.values.ravel()\n",
        "print('y_treino:', y_treino.shape)\n",
        "print(y_treino)"
      ],
      "execution_count": 22,
      "outputs": [
        {
          "output_type": "stream",
          "name": "stdout",
          "text": [
            "y_treino: (891,)\n",
            "[0 1 1 1 0 0 0 0 1 1 1 1 0 0 0 1 0 1 0 1 0 1 1 1 0 1 0 0 1 0 0 1 1 0 0 0 1\n",
            " 0 0 1 0 0 0 1 1 0 0 1 0 0 0 0 1 1 0 1 1 0 1 0 0 1 0 0 0 1 1 0 1 0 0 0 0 0\n",
            " 1 0 0 0 1 1 0 1 1 0 1 1 0 0 1 0 0 0 0 0 0 0 0 1 1 0 0 0 0 0 0 0 1 1 0 1 0\n",
            " 0 0 0 0 0 0 0 0 0 0 0 0 1 0 1 0 1 1 0 0 0 0 1 0 0 1 0 0 0 0 1 1 0 0 0 1 0\n",
            " 0 0 0 1 0 0 0 0 1 0 0 0 0 1 0 0 0 1 1 0 0 0 0 0 1 0 0 0 0 0 0 0 0 0 0 1 1\n",
            " 0 1 1 0 0 1 0 1 1 1 1 0 0 1 0 0 0 0 0 1 0 0 1 1 1 0 1 0 0 0 1 1 0 1 0 1 0\n",
            " 0 0 1 0 1 0 0 0 1 0 0 1 0 0 0 1 0 0 0 1 0 0 0 0 0 1 1 0 0 0 0 0 0 1 1 1 1\n",
            " 1 0 1 0 0 0 0 0 1 1 1 0 1 1 0 1 1 0 0 0 1 0 0 0 1 0 0 1 0 1 1 1 1 0 0 0 0\n",
            " 0 0 1 1 1 1 0 1 0 1 1 1 0 1 1 1 0 0 0 1 1 0 1 1 0 0 1 1 0 1 0 1 1 1 1 0 0\n",
            " 0 1 0 0 1 1 0 1 1 0 0 0 1 1 1 1 0 0 0 0 0 0 0 1 0 1 1 0 0 0 0 0 0 1 1 1 1\n",
            " 1 0 0 0 0 1 1 0 0 0 1 1 0 1 0 0 0 1 0 1 1 1 0 1 1 0 0 0 0 1 1 0 0 0 0 0 0\n",
            " 1 0 0 0 0 1 0 1 0 1 1 0 0 0 0 0 0 0 0 1 1 0 1 1 1 1 0 0 1 0 1 0 0 1 0 0 1\n",
            " 1 1 1 1 1 1 0 0 0 1 0 1 0 1 1 0 1 0 0 0 0 0 0 0 0 1 0 0 1 1 0 0 0 0 0 1 0\n",
            " 0 0 1 1 0 1 0 0 1 0 0 0 0 0 0 1 0 0 0 0 0 0 0 1 0 1 1 0 1 1 0 1 1 0 0 1 0\n",
            " 1 0 1 0 0 1 0 0 1 0 0 0 1 0 0 1 0 1 0 1 0 1 1 0 0 1 0 0 1 1 0 1 1 0 0 1 1\n",
            " 0 1 0 1 1 0 0 0 0 0 0 0 0 0 1 1 1 1 1 0 0 1 1 0 1 1 1 0 0 0 1 0 1 0 0 0 1\n",
            " 0 0 0 0 1 0 0 1 1 0 0 0 1 0 0 1 1 1 0 0 1 0 0 1 0 0 1 0 0 1 1 0 0 0 0 1 0\n",
            " 0 1 0 1 0 0 1 0 0 0 0 0 1 0 1 1 1 0 1 0 1 0 1 0 1 0 0 0 0 0 0 1 0 0 0 1 0\n",
            " 0 0 0 1 1 0 0 1 0 0 0 1 0 1 0 1 0 0 0 0 0 0 0 1 1 1 1 0 0 0 0 1 0 0 1 1 0\n",
            " 0 0 0 1 1 1 1 1 0 1 0 0 0 1 1 0 0 1 0 0 0 1 0 1 1 0 0 1 0 0 0 0 0 0 1 0 0\n",
            " 1 0 1 0 1 0 0 1 0 0 1 1 0 0 1 1 0 0 0 1 0 0 1 1 0 1 0 0 0 0 0 0 0 0 1 0 0\n",
            " 1 0 1 1 1 0 0 0 0 1 0 1 0 0 0 0 0 0 0 1 1 0 0 0 1 1 1 1 0 0 0 0 1 0 0 0 0\n",
            " 0 0 0 0 0 0 1 1 0 1 0 0 0 1 1 1 1 1 0 0 0 1 0 0 1 1 0 0 1 0 0 0 0 0 0 1 0\n",
            " 0 0 1 0 1 1 1 1 0 0 0 1 0 0 1 1 0 0 1 0 1 0 0 1 1 0 0 0 1 1 0 0 0 0 0 0 1\n",
            " 0 1 0]\n"
          ]
        }
      ]
    },
    {
      "cell_type": "markdown",
      "metadata": {
        "id": "ycJvMubDHqMS"
      },
      "source": [
        "# Seleção do modelo\n",
        "\n",
        "Aqui selecionamos um modelo para o aprendizado, baseado em um dos possíveis algoritmos de classificação binária.\n",
        "\n",
        "**Ajuste:** Depois de medir o desempenho do modelo você pode habilitar outros algoritmos. Note que apenas um par de comandos deve estar ativo (a linha `from` e a correspondente criação do `classificador`).\n",
        "\n",
        "- Para o algoritmo `SVC` você pode mudar o parâmetro para `gamma='auto'`.\n",
        "\n",
        "- Para o algoritmo `SGDClassifier` você pode mudar o parâmetro para `loss='log'`.\n",
        "\n",
        "- Para o algoritmo `LogisticRegression` você **precisa ter os dados escalonados** como parte do _pipeline_ numérico. Ou seja, é preciso que a linha do `StandardScaler()` esteja habilitada e que os dados sejam novamente preprocessados.\n",
        "\n",
        "- Para o algoritmo `RandomForestClassifier` você pode aumentar o parâmetro `n_estimators`, por exemplo para 10 ou 100."
      ]
    },
    {
      "cell_type": "code",
      "metadata": {
        "id": "TUUkca4BHqMS"
      },
      "source": [
        "from sklearn.svm import SVC\n",
        "classificador = SVC(random_state=42, gamma='scale')\n",
        "\n",
        "#from sklearn.linear_model import SGDClassifier\n",
        "#classificador = SGDClassifier(random_state=42, loss='hinge')\n",
        "\n",
        "#from sklearn.linear_model import LogisticRegression\n",
        "#classificador = LogisticRegression(random_state=42)\n",
        "\n",
        "#from sklearn.ensemble import RandomForestClassifier\n",
        "#classificador = RandomForestClassifier(random_state=42, n_estimators=1)"
      ],
      "execution_count": 23,
      "outputs": []
    },
    {
      "cell_type": "markdown",
      "metadata": {
        "id": "svsfXqIBHqMS"
      },
      "source": [
        "# Treino e medida de desempenho\n",
        "\n",
        "Vamos treinar e avaliar um classificador fazendo a **validação cruzada** do conjunto de treino. O parâmetro `cv` indica o número de dobras (ou _folds_), que é o número de vezes em que o conjunto é repartido, treinado e mensurado.\n",
        "\n",
        "Como medida de desempenho vamos usar a **acurácia** (_accuracy_), que indica o percentual de acertos na previsão.\n",
        "\n",
        "Como a validação cruzada devolve várias medidas, guardadas na lista `scores`, calculamos e exibimos uma média aritmética simples dessas medidas."
      ]
    },
    {
      "cell_type": "code",
      "metadata": {
        "id": "FFpMf_7zHqMS",
        "colab": {
          "base_uri": "https://localhost:8080/"
        },
        "outputId": "40404bf6-bb29-4001-aff8-59eb07cfdf4f"
      },
      "source": [
        "# validação cruzada\n",
        "\n",
        "from sklearn.model_selection import cross_val_score\n",
        "\n",
        "scores = cross_val_score(classificador, X_treino, y_treino, cv=10, scoring='accuracy')\n",
        "print('{:.2%}'.format(scores.mean()))"
      ],
      "execution_count": 24,
      "outputs": [
        {
          "output_type": "stream",
          "name": "stdout",
          "text": [
            "68.13%\n"
          ]
        }
      ]
    },
    {
      "cell_type": "markdown",
      "metadata": {
        "id": "oLFEsXWZHqMT"
      },
      "source": [
        "**Opcional:** Para melhorar o modelo existem diversas possibilidades de **ajuste** do modelo:\n",
        "\n",
        "- A ação mais direta é simplesmente testar outros algoritmos, como mostrado na seção \"Seleção do modelo\".\n",
        "\n",
        "- Você também pode ativar o escalonamento de _features_ na seção \"Preprocessamento\" e ver se houve ganho.\n",
        "\n",
        "- Outra possibilidade é reduzir o número de _features_, simplesmente retirando atributos numéricos e categóricos do _pipeline_ `full_pipeline` na seção \"Preprocessamento\".\n",
        "\n",
        "**Avançado**: Ainda é possível criar novas _features_ (o que precisa ser feito na seção \"Separação dos dados\"). Seguem três sugestões (que precisariam ser repetidas para o conjunto `teste`):\n",
        "\n",
        "    # novo atributo (categórico) agrupando idades por faixas\n",
        "    treino['faixa_etaria'] = treino['idade'] // 15 * 15\n",
        "    treino[['faixa_etaria', 'sobrevivente']].groupby(['faixa_etaria']).mean()    \n",
        "\n",
        "    # novo atributo (numérico ou categórico), agrupando dados sobre familiares\n",
        "    treino['total_parentes'] = treino['familia1'] + treino['familia2']\n",
        "    treino[['total_parentes', 'sobrevivente']].groupby(['total_parentes']).mean()\n",
        "\n",
        "    # novo atributo (binário e categórico) identificando passageiros viajando sozinhos\n",
        "    # (apenas 30% destes sobreviveram)\n",
        "    treino['sozinho'] = (treino['familia1'] + treino['familia2']) == 0"
      ]
    },
    {
      "cell_type": "markdown",
      "metadata": {
        "id": "7oCAmyKjHqMT"
      },
      "source": [
        "# Teste final do modelo\n",
        "\n",
        "Se você estiver satisfeito com a qualidade do modelo obtido (com base apenas na validação cruzada usando os rótulos de treino), então podemos fazer o teste final do modelo.\n",
        "\n",
        "Vamos gerar a versão treinada do modelo, preprocessar os dados de teste e então gerar previsões.\n",
        "\n",
        "Note que o treinamento do modelo é feito de fato aqui, com a chamada de `.fit()`. A validação cruzada feita anteriormente gera modelos temporários para as medidas e os descarta, mas não deixa o modelo treinado."
      ]
    },
    {
      "cell_type": "code",
      "metadata": {
        "id": "X9yIkQW5HqMU"
      },
      "source": [
        "# treinamento\n",
        "classificador.fit(X_treino, y_treino)\n",
        "\n",
        "# preprocessamento dos dados de teste\n",
        "X_teste = full_pipeline.transform(teste_features)\n",
        "\n",
        "# geração das previsões\n",
        "y_teste_pred = classificador.predict(X_teste)"
      ],
      "execution_count": 25,
      "outputs": []
    },
    {
      "cell_type": "markdown",
      "metadata": {
        "id": "3SM7sIViHqMU"
      },
      "source": [
        "Agora vamos avaliar a acurácia novamente, porém comparando o valores previstos com base nos dados de teste contra os rótulos reais para os mesmos dados de teste."
      ]
    },
    {
      "cell_type": "code",
      "metadata": {
        "id": "m-omXxZ8HqMU",
        "colab": {
          "base_uri": "https://localhost:8080/"
        },
        "outputId": "7f02939a-a077-407c-86da-43a90558c309"
      },
      "source": [
        "# rótulos reais\n",
        "y_teste = teste_rotulos.values.ravel()\n",
        "\n",
        "# medida de acurácia\n",
        "from sklearn.metrics import accuracy_score\n",
        "score = accuracy_score(y_teste, y_teste_pred)\n",
        "print('{:.2%}'.format(score))"
      ],
      "execution_count": 26,
      "outputs": [
        {
          "output_type": "stream",
          "name": "stdout",
          "text": [
            "66.51%\n"
          ]
        }
      ]
    },
    {
      "cell_type": "markdown",
      "metadata": {
        "id": "vHSn1HNcHqMW"
      },
      "source": [
        "# Gerando novas previsões\n",
        "\n",
        "Uma vez treinado e testado, o modelo pode ser usado para gerar previsões sobre dados nunca antes vistos.\n",
        "\n",
        "No exemplo abaixo um `DataFrame` com o mesmo formato dos conjuntos de `features` é criado, com apenas uma linha. Para essa pessoa fictícia, podemos usar o modelo para gerar uma previsão de sua possível sobrevivência ou não ao naufrágio do Titanic:"
      ]
    },
    {
      "cell_type": "code",
      "metadata": {
        "id": "3UWss_jNHqMW"
      },
      "source": [
        "person = pd.DataFrame(columns=['classe', 'sexo', 'idade', 'familia1', 'familia2', 'tarifa', 'embarque'],\n",
        "                      data   =[[      2,    'M',     40,           1,          0,     50.0,        'Q']])"
      ],
      "execution_count": 27,
      "outputs": []
    },
    {
      "cell_type": "code",
      "metadata": {
        "id": "Lq48A8rCHqMW",
        "colab": {
          "base_uri": "https://localhost:8080/"
        },
        "outputId": "30693d64-5700-447f-d96c-21ae1c158913"
      },
      "source": [
        "X_person = full_pipeline.transform(person)\n",
        "y_person = classificador.predict(X_person)\n",
        "y_person[0]"
      ],
      "execution_count": 28,
      "outputs": [
        {
          "output_type": "execute_result",
          "data": {
            "text/plain": [
              "0"
            ]
          },
          "metadata": {},
          "execution_count": 28
        }
      ]
    },
    {
      "cell_type": "markdown",
      "source": [
        "# Questionário"
      ],
      "metadata": {
        "id": "Vo2agToRFIC1"
      }
    },
    {
      "cell_type": "markdown",
      "source": [
        "**Questão 1:** Com base na seção \"Análise dos dados\", você consegue inferir algumas informações sobre dados demográficos ou econômicos dos passageiros em geral?\n"
      ],
      "metadata": {
        "id": "Hm4omvFiFMfO"
      }
    },
    {
      "cell_type": "code",
      "source": [
        "#Podemos ter uma ideia sobre as informações economicas ou demograficas pela classe onde cada passageiro estava,\n",
        "#desta maneira conseguimos ter uma ideia da situação de cada"
      ],
      "metadata": {
        "id": "Ziz13lt4E-s9"
      },
      "execution_count": 32,
      "outputs": []
    },
    {
      "cell_type": "markdown",
      "source": [
        "**Questão 2:** Com base na seção \"Correlação entre atributos\", o que você pode inferir sobre os coeficientes calculados entre alguns atributos?"
      ],
      "metadata": {
        "id": "TL2V0f_6FeDR"
      }
    },
    {
      "cell_type": "code",
      "source": [
        "#A matriz de correlação mostra que o sexo tem impacto significativo na sobrevivência (0.54), com maior chance para um gênero específico.\n",
        "#Variáveis como tarifa e cabine estão positivamente relacionadas (0.38), indicando melhores acomodações para tarifas mais altas.\n",
        "#Além disso, \"família1\" e \"família2\" apresentam alta correlação (1.00), sugerindo que representam informações semelhantes."
      ],
      "metadata": {
        "id": "Z4b_lkO9Feqj"
      },
      "execution_count": 33,
      "outputs": []
    },
    {
      "cell_type": "markdown",
      "source": [
        "**Questão 3:** Como a breve análise sobre os dados das questões 1 e 2 pode ajudar no processo de escolha de _features_ ou de melhoria da qualidade do modelo?\n"
      ],
      "metadata": {
        "id": "jwJPczjOFg0P"
      }
    },
    {
      "cell_type": "code",
      "source": [
        "#A análise de dados e correlações identifica atributos redundantes, irrelevantes ou altamente relacionados,\n",
        "#permitindo a seleção de features mais relevantes e simplificando o modelo.\n",
        "#Isso melhora a qualidade dos dados, reduz o risco de overfitting e otimiza o desempenho do modelo."
      ],
      "metadata": {
        "id": "ogEMtxNfFhSo"
      },
      "execution_count": 34,
      "outputs": []
    },
    {
      "cell_type": "markdown",
      "source": [
        "**Questão 4:** Qual a acurácia atingida com os dados de teste? Você ajustou o modelo para obter uma melhor qualidade de previsão? Se sim, explique os ajustes que você fez."
      ],
      "metadata": {
        "id": "DNLwfSrpFh6I"
      }
    },
    {
      "cell_type": "code",
      "source": [
        "#A acuracia atingida usando com base os dados de teste deu 66,51%, não realizei mudanças pois não achei \"teoricamente\" necessario fazer um ajuste no modelo"
      ],
      "metadata": {
        "id": "D7pzwpSJFjQn"
      },
      "execution_count": 35,
      "outputs": []
    },
    {
      "cell_type": "markdown",
      "source": [],
      "metadata": {
        "id": "y_ICfIcfp2ID"
      }
    },
    {
      "cell_type": "markdown",
      "source": [
        "**Questão 5:** Faça duas previsões usando o modelo final para dois personagens famosos, porém fictícios.\n",
        "- O primeiro é Jack Dawson, passageiro da terceira classe, de 20 anos, sem parentes no navio. Jack ganhou em um jogo de cartas uma passagem que valia 8 libras esterlinas e embarcou em Southampton.\n",
        "- O segundo é Rose DeWitt Bukater, passageira da primeira classe, de 17 anos e viajando junto com seu noivo e sua mãe. Sua passagem custou 100 libras esterlinas. Também embarcou em Southampton."
      ],
      "metadata": {
        "id": "V-GnIJwPFkES"
      }
    },
    {
      "cell_type": "code",
      "source": [
        "jack = pd.DataFrame(columns=['classe', 'sexo', 'idade', 'familia1', 'familia2', 'tarifa', 'embarque'],\n",
        "                      data   =[[      3,    'M',     20,           0,          0,     8.0,        'S']])\n",
        "\n",
        "rose = pd.DataFrame(columns=['classe', 'sexo', 'idade', 'familia1', 'familia2', 'tarifa', 'embarque'],\n",
        "                      data   =[[      1,    'F',     17,           1,          1,     100.0,        'S']])\n",
        "\n",
        "X_jack = full_pipeline.transform(jack)\n",
        "y_jack = classificador.predict(X_jack)\n",
        "print(\"jack\", y_jack[0])\n",
        "\n",
        "X_rose = full_pipeline.transform(rose)\n",
        "y_rose = classificador.predict(X_rose)\n",
        "print(\"rose\", y_rose[0])"
      ],
      "metadata": {
        "id": "BMclUhmKFl8c",
        "colab": {
          "base_uri": "https://localhost:8080/"
        },
        "outputId": "27911174-f153-4f48-e6b2-e17d3bd95a11"
      },
      "execution_count": 36,
      "outputs": [
        {
          "output_type": "stream",
          "name": "stdout",
          "text": [
            "jack 0\n",
            "rose 1\n"
          ]
        }
      ]
    }
  ]
}